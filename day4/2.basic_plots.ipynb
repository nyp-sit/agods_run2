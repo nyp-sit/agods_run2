{
  "cells": [
    {
      "cell_type": "markdown",
      "metadata": {
        "id": "view-in-github",
        "colab_type": "text"
      },
      "source": [
        "<a href=\"https://colab.research.google.com/github/nyp-sit/agods/blob/main/day3/2.basic_plots.ipynb\" target=\"_parent\"><img src=\"https://colab.research.google.com/assets/colab-badge.svg\" alt=\"Open In Colab\"/></a>"
      ]
    },
    {
      "cell_type": "markdown",
      "id": "f8658b24-2292-47ad-aff2-f96245067b94",
      "metadata": {
        "id": "f8658b24-2292-47ad-aff2-f96245067b94"
      },
      "source": [
        "<img src=\"https://nyp-aicourse.s3.ap-southeast-1.amazonaws.com/agods/nyp_ago_logo.png\" width='400'/>\n",
        "\n",
        "Welcome to the lab! Before we get started here are a few pointers on using this notebooks.\n",
        "\n",
        "1. The notebook is composed of cells; cells can contain code which you can run, or they can hold text and/or images which are there for you to read.\n",
        "\n",
        "2. You can execute code cells by clicking the ```Run``` icon in the menu, or via the following keyboard shortcuts ```Shift-Enter``` (run and advance) or ```Ctrl-Enter``` (run and stay in the current cell).\n",
        "\n",
        "3. To interrupt cell execution, click the ```Stop``` button on the toolbar or navigate to the ```Kernel``` menu, and select ```Interrupt ```.\n",
        "    "
      ]
    },
    {
      "cell_type": "code",
      "source": [
        "# Uncomment these two lines to download dataset if you are using Google Colab\n",
        "!wget https://nyp-aicourse.s3.ap-southeast-1.amazonaws.com/agods/day3_datasets.zip\n",
        "!unzip day3_datasets.zip -d datasets"
      ],
      "metadata": {
        "id": "BndwqTki33ya"
      },
      "id": "BndwqTki33ya",
      "execution_count": null,
      "outputs": []
    },
    {
      "cell_type": "markdown",
      "id": "f8b4d4ef-ff2e-4c26-8c20-72d638e956b0",
      "metadata": {
        "id": "f8b4d4ef-ff2e-4c26-8c20-72d638e956b0"
      },
      "source": [
        "# Basic Plots\n",
        "\n",
        "We are going to go through the different types of simple plots. This includes bar charts, pie charts, stacked bar, and area charts, histograms, box plots, scatter plots and bubble plots. More sophisticated plots, such as violin plots, will be covered in the next exercise, using Seaborn instead of Matplotlib."
      ]
    },
    {
      "cell_type": "code",
      "execution_count": null,
      "id": "2b0a382f-59ae-4091-a6b2-c0d6d5e0d492",
      "metadata": {
        "id": "2b0a382f-59ae-4091-a6b2-c0d6d5e0d492"
      },
      "outputs": [],
      "source": [
        "import matplotlib.pyplot as plt\n",
        "import numpy as np\n",
        "import pandas as pd"
      ]
    },
    {
      "cell_type": "markdown",
      "id": "58710491-7cc6-4ec0-81d7-d12c2764ea79",
      "metadata": {
        "id": "58710491-7cc6-4ec0-81d7-d12c2764ea79"
      },
      "source": [
        "## Visualizing Comparision"
      ]
    },
    {
      "cell_type": "markdown",
      "id": "13267630-dc1f-458c-aaf0-cf3b8bc6eba1",
      "metadata": {
        "id": "13267630-dc1f-458c-aaf0-cf3b8bc6eba1"
      },
      "source": [
        "### Bar Chart\n",
        "\n",
        "Bar chart can be useful for comparing numerical values across categories (categorical), e.g. \n",
        "\n",
        "<img src=\"https://github.com/nyp-sit/agods/raw/main/day3/images/barchart_comparison.png\" width=\"70%\" />\n",
        "\n",
        "It can also be used for time-series data if the data is uncorrelated and we want to emphasize and compare individual values. \n",
        "\n",
        "<img src=\"https://github.com/nyp-sit/agods/raw/main/day3/images/barchart_timeseries.png\" width='70%'/>\n",
        "\n",
        "Here are some design considerations when using bar chart: \n",
        "- The axis corresponding to the numerical variable should start at zero. Starting with another value might be misleading, as it makes a small value difference look like a big one.\n",
        "- Use horizontal label, if the number of bars is small, and the chart doesn’t look too cluttered.\n",
        "- The labels can be rotated to different angles if there isn’t enough space to present them horizontally.\n"
      ]
    },
    {
      "cell_type": "markdown",
      "id": "bb1fe0f5-0fc2-4ff2-9c72-b2a55665d96a",
      "metadata": {
        "id": "bb1fe0f5-0fc2-4ff2-9c72-b2a55665d96a"
      },
      "source": [
        "The [`plt.bar(x, height, [width])`](https://matplotlib.org/stable/api/_as_gen/matplotlib.pyplot.bar.html) creates a vertical bar plot. For horizontal bars, use the [`plt.barh()`](https://matplotlib.org/stable/api/_as_gen/matplotlib.pyplot.barh.html) function.\n",
        "\n",
        "**Important parameters**:\n",
        "\n",
        "- `x`: Specifies the x coordinates of the bars\n",
        "- `height`: Specifies the height of the bars\n",
        "- `width (optional)`: Specifies the width of all bars; the default is 0.8"
      ]
    },
    {
      "cell_type": "code",
      "execution_count": null,
      "id": "9e906e64-81e0-41cb-9c4d-d44f06a92ffd",
      "metadata": {
        "id": "9e906e64-81e0-41cb-9c4d-d44f06a92ffd"
      },
      "outputs": [],
      "source": [
        "plt.bar(['A', 'B', 'C', 'D'], [20, 25, 40, 10], width=0.7)"
      ]
    },
    {
      "cell_type": "markdown",
      "id": "03fd34c6-6767-40f8-8547-5300d43c8cc5",
      "metadata": {
        "id": "03fd34c6-6767-40f8-8547-5300d43c8cc5"
      },
      "source": [
        "If you want to have subcategories, you have to use the `plt.bar()` function multiple times with shifted x-coordinates. \n",
        "This is done in the following example and illustrated in the figure that follows. \n",
        "The `arange()` function is a method in the NumPy package that returns evenly spaced values within a given interval.  The `xticks()` function is used to set the x-ticks and the corresponding labels"
      ]
    },
    {
      "cell_type": "code",
      "execution_count": null,
      "id": "cb258cf6-ad56-4579-90ea-46045456dd9c",
      "metadata": {
        "id": "cb258cf6-ad56-4579-90ea-46045456dd9c"
      },
      "outputs": [],
      "source": [
        "labels = ['A', 'B', 'C', 'D']\n",
        "\n",
        "x = np.arange(len(labels))\n",
        "\n",
        "width = 0.4\n",
        "\n",
        "plt.bar(x - width / 2, [20, 25, 40, 10], width=width)\n",
        "\n",
        "plt.bar(x + width / 2, [30, 15, 30, 20], width=width)\n",
        "\n",
        "# Ticks and tick labels must be set manually\n",
        "\n",
        "plt.xticks(x, labels)\n",
        "\n",
        "plt.show()\n",
        "\n",
        "#ax = plt.gca()\n",
        "\n",
        "#ax.set_xticklabels(labels)"
      ]
    },
    {
      "cell_type": "markdown",
      "id": "7570eb33-30ac-45e7-8021-756dba4bd4fe",
      "metadata": {
        "id": "7570eb33-30ac-45e7-8021-756dba4bd4fe"
      },
      "source": [
        "### Exercise\n",
        "\n",
        "In this exercise, you will generate a bar plot to compare movie scores. You will be given five movies with scores from Rotten Tomatoes. The Tomatometer is the percentage of approved Tomatometer critics who have given a positive review for a movie. The Audience Score is the percentage of users who have given a score of 3.5 or higher, out of 5. Compare these two scores among the five movies.\n",
        "\n",
        "The following are the steps to perform:\n",
        "\n",
        "1. Import the necessary modules and enable plotting within a Jupyter Notebook.\n",
        "2. Use pandas to read the data (movie_scores.csv) located in the datasets subfolder.\n",
        "3. Use Matplotlib to create a visually appealing bar plot comparing the two scores for all five movies.\n",
        "4. Use the movie titles as labels for the x-axis. Use percentages at intervals of 20 for the y-axis and minor ticks at intervals of 5. Add a legend and a suitable title to the plot.\n",
        "5. Add a horizontal grid for major ticks, and add a dashed horizontal grid for minor ticks (Hint: refer to [`plt.grid()`](https://matplotlib.org/stable/api/_as_gen/matplotlib.pyplot.grid.html)\n",
        "\n",
        "The expected output is as below: \n",
        "\n",
        "<img src='https://github.com/nyp-sit/agods/blob/main/day3/images/ex2_output.png?raw=1' width=60% />"
      ]
    },
    {
      "cell_type": "code",
      "execution_count": null,
      "id": "9147f984-5410-44e4-9316-1aa360221029",
      "metadata": {
        "id": "9147f984-5410-44e4-9316-1aa360221029"
      },
      "outputs": [],
      "source": [
        "## TODDO \n",
        "\n",
        "# Step 1: import libraries \n",
        "\n",
        "\n",
        "# Step 2: Read the dataset\n",
        "\n",
        "\n",
        "# Step 3: Create a bar plot comparing two scores for 5 movies \n",
        "\n",
        "\n",
        "# Step 4: Set the x-axis labels, set the major ticks for y-axis, add title and legend\n",
        "\n",
        "\n",
        "# Step 5: Add minor ticks, add dashed horizontal grid for minor ticks, add solid horizontal grid for major tick \n"
      ]
    },
    {
      "cell_type": "markdown",
      "id": "5773e8c0-ff50-4c6c-b249-6c5ab4576843",
      "metadata": {
        "id": "5773e8c0-ff50-4c6c-b249-6c5ab4576843"
      },
      "source": [
        "## Part-to-Whole Comparison \n",
        "\n",
        "Sometimes, we need to know not just a total, but the components that\n",
        "comprise that total. While other charts like a standard bar chart can be\n",
        "used to compare the values of the components, the following charts are particularly suited for part-to-whole decomposition: Pie Chart, Stacked Bar Chart and Stacked Area Plot.  "
      ]
    },
    {
      "cell_type": "markdown",
      "id": "a58c7490-3646-4ba6-ace0-540f5a19bc64",
      "metadata": {
        "id": "a58c7490-3646-4ba6-ace0-540f5a19bc64"
      },
      "source": [
        "### Pie Chart\n",
        "\n",
        "The `plt.pie(x, [explode], [labels], [autopct])` function creates a pie chart.\n",
        "\n",
        "Important parameters:\n",
        "\n",
        "- `x`: Specifies the slice sizes.\n",
        "- `explode (optional)`: Specifies the fraction of the radius offset for each slice. The explode-array must have the same length as the x-array.\n",
        "- `labels (optional)`: Specifies the labels for each slice.\n",
        "- `autopct (optional)`: Shows percentages inside the slices according to the specified format string. Example: '%1.1f%%'."
      ]
    },
    {
      "cell_type": "code",
      "execution_count": null,
      "id": "ec1e8fff-3a25-46bb-be5a-b2749bb7b8ee",
      "metadata": {
        "id": "ec1e8fff-3a25-46bb-be5a-b2749bb7b8ee"
      },
      "outputs": [],
      "source": [
        "plt.pie([0.4, 0.3, 0.2, 0.1], \n",
        "        explode=(0.1, 0.0, 0.0, 0.0), \n",
        "        labels=['A', 'B', 'C', 'D'],\n",
        "        autopct=\"%1.1f%%\")\n",
        "plt.show()"
      ]
    },
    {
      "cell_type": "markdown",
      "id": "64c69df6-b502-4c02-9c5f-86c394c6bbdd",
      "metadata": {
        "id": "64c69df6-b502-4c02-9c5f-86c394c6bbdd"
      },
      "source": [
        "### Stacked Bar Chart\n",
        "\n",
        "We can use stacked bar chart to show the composition and comparison of a few variables over time.  The vertical bar always adds up to 100%.  \n",
        "\n",
        "A stacked bar chart uses the same `plt.bar()` function as bar charts. For each stacked bar, the `plt.bar()` function must be called, and the `bottom` parameter must be specified, starting with the second stacked bar."
      ]
    },
    {
      "cell_type": "code",
      "execution_count": null,
      "id": "9ca45f1e-eb47-4d07-8ccd-4ba68283edea",
      "metadata": {
        "id": "9ca45f1e-eb47-4d07-8ccd-4ba68283edea"
      },
      "outputs": [],
      "source": [
        "x = ['A', 'B', 'C']\n",
        "bars1 = [10, 20, 30]\n",
        "bars2 = [20, 15, 10]\n",
        "bars3 = [5, 10, 20]\n",
        "plt.bar(x, bars1, label='bar1')\n",
        "plt.bar(x, bars2, bottom=bars1, label='bar2')\n",
        "# now the new botton consist of the sum of bars1 and bars.  we can use np.add() to sum up the two arrays bars1 and bars2\n",
        "plt.bar(x, bars3, bottom=np.add(bars1, bars2), label='bar3')\n",
        "plt.legend()\n",
        "plt.show()"
      ]
    },
    {
      "cell_type": "markdown",
      "id": "b48e32a8-b890-4b9b-91fd-5effd6080cd2",
      "metadata": {
        "id": "b48e32a8-b890-4b9b-91fd-5effd6080cd2"
      },
      "source": [
        "If our data comes as DataFrame or if we can transform our data into Dataframe, the pandas library provides an easier way for to plot the stacked bar chart. "
      ]
    },
    {
      "cell_type": "code",
      "execution_count": null,
      "id": "7a0cd1b8-6d57-40a8-bbad-350651ee937c",
      "metadata": {
        "id": "7a0cd1b8-6d57-40a8-bbad-350651ee937c"
      },
      "outputs": [],
      "source": [
        "import seaborn as sns \n",
        "\n",
        "sns.set_palette(\"deep\")\n",
        "df = pd.DataFrame({'bar1': [10, 20, 30],\n",
        "                   'bar2': [20, 15, 10],\n",
        "                   'bar3': [5, 10, 20]},\n",
        "                  index=['A', 'B', 'C'])\n",
        " \n",
        "# create stacked bar chart for monthly temperatures\n",
        "df.plot(kind='bar', stacked=True, rot=0)\n",
        " "
      ]
    },
    {
      "cell_type": "markdown",
      "id": "31404799-316b-4d74-b61a-3e5c2f415e3c",
      "metadata": {
        "id": "31404799-316b-4d74-b61a-3e5c2f415e3c"
      },
      "source": [
        "### Exercise \n",
        "\n",
        "\n",
        "In this exercise, we will use a stacked bar plot to visualize the performance of a restaurant. \n",
        "\n",
        "Let's look at the following scenario: \n",
        "\n",
        "You are the owner of a restaurant and, due to a new law, you have to introduce a No Smoking Day. To make as few losses as possible, you want to visualize how many sales are made every day, categorized by smokers and non-smokers.\n",
        "\n",
        "Use the dataset *tips* from Seaborn, which contains multiple entries of restaurant bills, and create a matrix where the elements contain the sum of the total bills for each day and smokers/non-smokers:\n",
        "\n",
        "*Note*\n",
        "\n",
        "For this exercise, we will import the Seaborn library as `import seaborn as sns`. The dataset can be loaded using this code: \n",
        "`bills = sns.load_dataset('tips')`"
      ]
    },
    {
      "cell_type": "markdown",
      "id": "b5158052-a530-4e58-a26e-28bfa59f7e98",
      "metadata": {
        "id": "b5158052-a530-4e58-a26e-28bfa59f7e98"
      },
      "source": [
        "1. Import all the necessary dependencies and load the tips dataset. Note that we have to import the Seaborn library to load the dataset.\n",
        "2. Use the given dataset and create a matrix where the elements contain the sum of the total bills for each day and split according to smokers/non-smokers.\n",
        "\n",
        "|day|smoker|non-smoker|\n",
        "|---|---|---|\n",
        "|Sun|103.20|303.20|\n",
        "|Mon|223.30|123.30|\n",
        "\n",
        "3. Create a stacked bar plot, stacking the summed total bills separated according to smoker and non-smoker for each day.\n",
        "4. Add a legend, labels, and a title.\n",
        "\n",
        "After executing the preceding steps, the expected output should be as follows:\n",
        "\n",
        "<img src='https://github.com/nyp-sit/agods/blob/main/day3/images/stacked_bar_exercise.png?raw=1' width=60%/>"
      ]
    },
    {
      "cell_type": "code",
      "execution_count": null,
      "id": "0bbbf14e-52cb-4223-a08a-0675db09c514",
      "metadata": {
        "id": "0bbbf14e-52cb-4223-a08a-0675db09c514"
      },
      "outputs": [],
      "source": [
        "## TODO:  Complete the code here\n",
        "\n",
        "# Step 1:  import seaborn and load the dataset 'tips'. \n",
        "\n",
        "\n",
        "\n",
        "# Step 2:  Sum up the total tips grouped by day and smoker. Hint:  Use dataframe groupby() and sum() \n",
        "\n",
        "\n",
        "\n",
        "# Step 3:  Create a matrix where each row represents the day, and the columns are total bills of smoker and non-smoker\n",
        "\n",
        "\n",
        "\n",
        "# Step 4:  Create a stacked bar plot, stacking the summed total bills separated according to smoker and non-smoker for each day.\n",
        "\n",
        "\n",
        "\n",
        "# Step 5:  Add a legend, labels, and a title."
      ]
    },
    {
      "cell_type": "markdown",
      "id": "bfaed27e-0048-4305-9abb-f4391c955c3b",
      "metadata": {
        "id": "bfaed27e-0048-4305-9abb-f4391c955c3b"
      },
      "source": [
        "### Stacked Area Chart\n",
        "\n",
        "[`plt.stackplot(x, y)`](https://matplotlib.org/stable/api/_as_gen/matplotlib.pyplot.stackplot.html) creates a stacked area plot.\n",
        "\n",
        "Important parameters:\n",
        "- `x`: Specifies the x-values of the data series (of shape N)\n",
        "- `y`: Specifies the y-values of the data series. For multiple series, either as a (M, N)-shaped array e.g. `plt.stackplot(x, y)` or any number of 1D arrays of shape N, e.g `plt.stackplot(x, y1, y2, y3, …)`.\n",
        "- `labels (optional)`: Specifies the labels as a list or tuple for each data series.\n"
      ]
    },
    {
      "cell_type": "code",
      "execution_count": null,
      "id": "2449c8af-b024-44cd-a579-eb2890b9ea48",
      "metadata": {
        "id": "2449c8af-b024-44cd-a579-eb2890b9ea48"
      },
      "outputs": [],
      "source": [
        "plt.stackplot([1, 2, 3, 4], [2, 4, 5, 8], [1, 5, 4, 2])\n",
        "plt.show()\n",
        "\n",
        "## or \n",
        "# x = np.array([1, 2, 3, 4]) # shape (4,)\n",
        "# y = np.array([ [2, 4, 5, 8], [1, 5, 4, 2] ]) # shape (2, 4)\n",
        "# print(x.shape)\n",
        "# print(y.shape)\n",
        "# plt.stackplot(x, y)\n",
        "\n",
        "# or using dataframe\n",
        "# data = pd.DataFrame( { 'series_1': [2,4,5,8],\n",
        "#                        'series_2': [1,5,4,2]},\n",
        "#                      index=[1,2,3,4])\n",
        "# data.plot.area()"
      ]
    },
    {
      "cell_type": "markdown",
      "id": "b9f27092-3a3c-4742-9318-11a1584d4c82",
      "metadata": {
        "id": "b9f27092-3a3c-4742-9318-11a1584d4c82"
      },
      "source": [
        "### Exercise \n",
        "\n",
        "In this exercise, we will compare smartphone sales units using a stacked area chart. \n",
        "\n",
        "Let's look at the following scenario: \n",
        "\n",
        "You want to invest in one of the five biggest smartphone manufacturers. Looking at the quarterly sales units as part of a whole may be a good indicator of which company to invest in:\n",
        "\n",
        "1. Import the necessary modules \n",
        "2. Use pandas to read the *smartphone_sales.csv* dataset located in the datasets subfolder.\n",
        "3. Create a visually appealing stacked area chart. Add a legend, labels, and a title.\n",
        "\n",
        "After executing the preceding steps, the expected output should be as follows:\n",
        "\n",
        "<img src='https://github.com/nyp-sit/agods/blob/main/day3/images/stacked_plot_exercise.png?raw=1' width=60% />\n"
      ]
    },
    {
      "cell_type": "code",
      "execution_count": null,
      "id": "a468eaa3-0adc-4960-b634-7cea82d08d4f",
      "metadata": {
        "id": "a468eaa3-0adc-4960-b634-7cea82d08d4f"
      },
      "outputs": [],
      "source": [
        "## TODO\n",
        "\n",
        "# Step 1: Import the necessary modules\n",
        "\n",
        "\n",
        "# Step 2: Use pandas to read the smartphone_sales.csv dataset located in the Datasets subfolder.\n",
        "\n",
        "\n",
        "# Step 3: Create a visually appealing stacked area chart. Add a legend, labels, and a title.\n"
      ]
    },
    {
      "cell_type": "markdown",
      "id": "f6bb5799-3801-4d26-8078-7d1be383906b",
      "metadata": {
        "id": "f6bb5799-3801-4d26-8078-7d1be383906b"
      },
      "source": [
        "## Visualizing Distribution\n",
        "\n",
        "Visualizing distribution allows us to examine set of quantitave values to see giw the values are distributed from lowest to highest. \n",
        "Distribution visualization can provide quick answers to many important questions:\n",
        "- what range do the observations cover? \n",
        "- what is their central tendency?\n",
        "- are they heavily skewed in one direction? Is there evidence for bimodality? \n",
        "- are there significant outliers? \n",
        "\n",
        "Histogram is commonly used for displaying single distribution, while Box plot and Violin plot are commonly used to compare distributions between groups. "
      ]
    },
    {
      "cell_type": "markdown",
      "id": "3b29e089-a99c-4aaa-984a-fb74bd481a13",
      "metadata": {
        "id": "3b29e089-a99c-4aaa-984a-fb74bd481a13"
      },
      "source": [
        "### Histogram\n",
        "\n",
        "A histogram visualizes the distribution of a single numerical variable. Each bar represents the frequency for a certain interval. \n",
        "\n",
        "Histogram and bar chart might look similar but they are used differently: \n",
        "- Histograms are used to show distributions of variables while bar charts are used to compare variables. \n",
        "- Histograms plot binned quantitative data while bar charts plot categorical data. \n",
        "- Bars can be reordered in bar charts but not in histograms\n",
        "\n",
        "Experiment with different number of bins (intervals) to select the optimal number: \n",
        "- too many intervals will result in raggedly shaped distribution which is hard to see the shape of distribution\n",
        "- too few intervals will result in too much smoothing and loss of information. \n",
        "\n",
        "There are some guidelines on choosing the number of bins, e.g. Sturge's rule and Freedman-Diaconis rule. By default, matplotlib uses max of Sturge and Freedman-Diaconis. \n",
        "\n",
        "The `plt.hist(x)` function creates a histogram.\n",
        "Important parameters:\n",
        "\n",
        "- `x`: Specifies the input values.\n",
        "- `bins: (optional)`: Specifies the number of bins as an integer or specifies the bin edges as a list.\n",
        "- `range: (optional)`: Specifies the lower and upper range of the bins as a tuple.\n",
        "- `density: (optional)`: If true, the histogram represents a probability density"
      ]
    },
    {
      "cell_type": "code",
      "execution_count": null,
      "id": "72bc7802-5865-4471-b1e8-78e5fb5020d3",
      "metadata": {
        "id": "72bc7802-5865-4471-b1e8-78e5fb5020d3"
      },
      "outputs": [],
      "source": [
        "plt.figure()\n",
        "x = np.random.normal(0, 1, size=1000)\n",
        "plt.hist(x, bins=30, density=True)\n",
        "plt.show()"
      ]
    },
    {
      "cell_type": "code",
      "execution_count": null,
      "id": "a1c4bcc2-28b1-48d6-acee-4bb9a352d897",
      "metadata": {
        "id": "a1c4bcc2-28b1-48d6-acee-4bb9a352d897"
      },
      "outputs": [],
      "source": [
        "plt.figure()\n",
        "x = np.random.normal(0, 1, size=1000)\n",
        "plt.hist(x, bins=30, density=False)\n",
        "plt.show()"
      ]
    },
    {
      "cell_type": "markdown",
      "id": "63ea5e65-6a32-484f-8ad6-689a047186fb",
      "metadata": {
        "id": "63ea5e65-6a32-484f-8ad6-689a047186fb"
      },
      "source": [
        "### Box Plot\n",
        "\n",
        "Box plot can be used to compare distributions between groups. The box plot shows multiple statistical measurements. The box extends from the lower to the upper quartile values of the data, thereby allowing us to visualize the interquartile range. \n",
        "\n",
        "<img src=\"https://github.com/nyp-sit/agods/blob/main/day3/images/boxplot_parts.png?raw=1\" width=50%/>\n",
        "\n",
        "\n",
        "For more details regarding the plot, refer to the previous chapter. The `plt.boxplot(x)` function creates a box plot.\n",
        "\n",
        "**Important parameters**:\n",
        "\n",
        "- `x`: Specifies the input data. It specifies either a 1D array for a single box, or a sequence of arrays for multiple boxes.\n",
        "- `notch: (optional)` If true, notches will be added to the plot to indicate the confidence interval around the median.\n",
        "- `labels: (optional)` Specifies the labels as a sequence.\n",
        "- `showfliers: (optional)` By default, it is true, and outliers are plotted beyond the caps.\n",
        "- `showmeans: (optional)` If true, arithmetic means are shown."
      ]
    },
    {
      "cell_type": "code",
      "execution_count": null,
      "id": "c485b6f8-34c7-47cd-b950-d450740be8d2",
      "metadata": {
        "id": "c485b6f8-34c7-47cd-b950-d450740be8d2"
      },
      "outputs": [],
      "source": [
        "plt.figure()\n",
        "x1 = np.random.normal(0, 1, size=100)\n",
        "x2 = np.random.normal(0, 1, size=100)\n",
        "plt.boxplot([x1, x2], labels=['A', 'B'])\n",
        "plt.show()"
      ]
    },
    {
      "cell_type": "markdown",
      "id": "7252db4d-d5d7-43bf-bc01-1e8eadc5d6aa",
      "metadata": {
        "id": "7252db4d-d5d7-43bf-bc01-1e8eadc5d6aa"
      },
      "source": [
        "### Exercise - Using a Histogram and a Box Plot to Visualize Intelligence Quotient\n",
        "\n",
        "In this exercise, we will visualize the intelligence quotient (IQ) of 100 applicants using histogram and box plots. 100 people have come for an interview in a company. To place an individual applicant in the overall group, a histogram and a box plot shall be used.\n",
        "\n",
        "1. Import the necessary modules and enable plotting within a Jupyter Notebook.\n",
        "2. Use the following IQ scores to create the plots:\n",
        "\n",
        "```python\n",
        "# IQ samples\n",
        "iq_scores = [126, 89, 90, 101, 102, 74, 93, 101, 66, \\\n",
        "             120, 108, 97, 98, 105, 119, 92, 113, 81, \\\n",
        "             104, 108, 83, 102, 105, 111, 102, 107, 103, \\\n",
        "             89, 89, 110, 71, 110, 120, 85, 111, 83, 122, \\\n",
        "             120, 102, 84, 118, 100, 100, 114, 81, 109, 69, \\\n",
        "             97, 95, 106, 116, 109, 114, 98, 90, 92, 98, \\\n",
        "             91, 81, 85, 86, 102, 93, 112, 76, 89, 110, \\\n",
        "             75, 100, 90, 96, 94, 107, 108, 95, 96, 96, \\\n",
        "             114, 93, 95, 117, 141, 115, 95, 86, 100, 121, \\\n",
        "             103, 66, 99, 96, 111, 110, 105, 110, 91, 112, \\\n",
        "             102, 112, 75]\n",
        "```\n",
        "3. Plot a histogram with 10 bins for the given IQ scores. Visualize the mean as a vertical solid red line, and the standard deviation using dashed vertical lines. Add labels and a title. The expected output is as follows:\n",
        "\n",
        "<img src='https://github.com/nyp-sit/agods/blob/main/day3/images/hist_exercise.png?raw=1' width=60% />\n",
        "\n",
        "*Note*\n",
        "The `plt.axvline(x, [color=…], [linestyle=…])` function draws a vertical line at position x.\n",
        "\n",
        "4. Create a box plot to visualize the same IQ scores. Add labels and a title. The expected output is as follows:\n",
        "\n",
        "<img src='https://github.com/nyp-sit/agods/blob/main/day3/images/boxplot_exercise.png?raw=1' width=60% />"
      ]
    },
    {
      "cell_type": "code",
      "execution_count": null,
      "id": "b2297407-91bc-45e9-bdfc-6cd0f00a243d",
      "metadata": {
        "id": "b2297407-91bc-45e9-bdfc-6cd0f00a243d"
      },
      "outputs": [],
      "source": [
        "# TODO: complete the code \n",
        "\n",
        "# Step 1:  Import the python modules \n",
        "\n",
        "\n",
        "\n",
        "# Step 2:  Create an numpy array of given iq scores \n",
        "\n",
        "\n",
        "\n",
        "# Step 3: compute the mean and standard deviation using Numpy functions: mean(), and std()\n",
        "\n",
        "\n",
        "\n",
        "# Step 4:  Plot the histogram\n",
        "\n",
        "\n",
        "\n",
        "# Step 5:  Plot the box plot \n"
      ]
    },
    {
      "cell_type": "markdown",
      "id": "809fe427-2425-483f-8e35-43154c3af527",
      "metadata": {
        "id": "809fe427-2425-483f-8e35-43154c3af527"
      },
      "source": [
        "## Visualizing Relationship \n",
        "\n",
        "One task that shows up in data exploration is understanding the relationship\n",
        "between data features. The chart types below can be used to plot\n",
        "two or more variables against each other to observe trends and patterns\n",
        "between them: scatter plot, bubble chart, and scatterplot matrix.  We will look at scatterplot matrix when we cover Seaborn plotting library.\n"
      ]
    },
    {
      "cell_type": "markdown",
      "id": "5f557c80-e4a4-469e-b2fd-e10a069a416f",
      "metadata": {
        "id": "5f557c80-e4a4-469e-b2fd-e10a069a416f"
      },
      "source": [
        "### Scatter Plot\n",
        "\n",
        "Scatter plot is useful for showing relationships between two numeric variables. Each point’s position on the horizontal and vertical axes indicate value on the associated variable. \n",
        "\n",
        "`plt.scatter(x, y)` creates a scatter plot of y versus x, with optionally varying marker size and/or color.\n",
        "\n",
        "**Important parameters**:\n",
        "\n",
        "- `x, y`: Specifies the data positions.\n",
        "- `s: (optional)` Specifies the marker size in points squared.\n",
        "- `c: (optional)` Specifies the marker color. If a sequence of numbers is specified, the numbers will be mapped to the colors of the color map.\n"
      ]
    },
    {
      "cell_type": "code",
      "execution_count": null,
      "id": "9290939c-565a-4868-9112-6305c57ffa54",
      "metadata": {
        "id": "9290939c-565a-4868-9112-6305c57ffa54"
      },
      "outputs": [],
      "source": [
        "# Generate some x,y data \n",
        "x = np.random.normal(0, 1, size=100)\n",
        "y = 1 + x + np.random.normal(0, 1, size=100)\n",
        "\n",
        "plt.figure()\n",
        "plt.scatter(x, y)\n",
        "plt.show()"
      ]
    },
    {
      "cell_type": "markdown",
      "id": "64003c3a-deb1-40bb-bebe-5e9560ea19ee",
      "metadata": {
        "id": "64003c3a-deb1-40bb-bebe-5e9560ea19ee"
      },
      "source": [
        "Sometime it is useful to also plot the regression model to fit the scatter plot. It is easier to do it using Seaborn plotting library. We will see how to do it later."
      ]
    },
    {
      "cell_type": "code",
      "execution_count": null,
      "id": "e123ebaa-bbc4-4ecc-8b40-9cbf12446a54",
      "metadata": {
        "id": "e123ebaa-bbc4-4ecc-8b40-9cbf12446a54"
      },
      "outputs": [],
      "source": [
        "#obtain m (slope) and b(intercept) of linear regression line, degree 1\n",
        "m, b = np.polyfit(x, y, 1)\n",
        "#add linear regression line to scatterplot \n",
        "plt.scatter(x, y)\n",
        "plt.plot(x, m*x+b, \"r\")"
      ]
    },
    {
      "cell_type": "markdown",
      "id": "a518685a-c7ac-40f3-b263-6fbff01325bb",
      "metadata": {
        "id": "a518685a-c7ac-40f3-b263-6fbff01325bb"
      },
      "source": [
        "### Exercise \n",
        "\n",
        "In this exercise, we will use a scatter plot to show correlation within a dataset. You are given a dataset *anage_data.csv* containing information about various animals. Visualize the correlation between attributes *Maximum longevity (yrs)* and *Body mass (g)* of different *Class* of animals such as Amphibia, Aves, etc. \n",
        "\n",
        "Create a scatter plot visualizing the correlation between the body mass and the maximum longevity. Use different colors for grouping data samples according to their class. Add a legend, labels and a title. Use a log scale for both the x-axis and y-axis."
      ]
    },
    {
      "cell_type": "code",
      "execution_count": null,
      "id": "0a18a4ba-63c1-4457-91f6-e0c1a9097f44",
      "metadata": {
        "id": "0a18a4ba-63c1-4457-91f6-e0c1a9097f44"
      },
      "outputs": [],
      "source": [
        "# Step 1: Import the necessary packages\n",
        "\n",
        "\n",
        "# Step 2: Import the dataset from 'datasets/anage_data.csv' \n",
        "\n",
        "\n",
        "# Step 3: Create a subset that only contains 'Class', 'Maximum longevity (yrs)', and  'Body mass (g)' \n",
        "\n",
        "\n",
        "# Step 4: Drop any rows that contain Null values. Find out how many Classes of animals are left in the remaining data\n",
        "\n",
        "\n",
        "# Step 5: Create individual dataframes for each animal Class. \n",
        "\n",
        "\n",
        "# Step 6: Create scatter plot of longevity and body mass for each of the animal class. Use different colors for different class. \n",
        "\n",
        "\n",
        "# Step 7: Add legend, title and change the x and y axis to log scale.\n"
      ]
    },
    {
      "cell_type": "markdown",
      "id": "7f6179eb-2403-42f2-ab1b-2168a024a6f4",
      "metadata": {
        "id": "7f6179eb-2403-42f2-ab1b-2168a024a6f4"
      },
      "source": [
        "### Bubble Plot\n",
        "\n",
        "The `plt.scatter()` function can also be used to create a bubble plot, to visualize a third or fourth variable. The parameters `s` (scale) and `c` (color) are used for this purpose."
      ]
    },
    {
      "cell_type": "code",
      "execution_count": null,
      "id": "ea7faeb5-1b21-4808-831c-f41ff0b717d8",
      "metadata": {
        "id": "ea7faeb5-1b21-4808-831c-f41ff0b717d8"
      },
      "outputs": [],
      "source": [
        "x = np.random.normal(0, 1, size=100)\n",
        "y = np.random.normal(0, 1, size=100)\n",
        "z = np.random.normal(0, 1, size=100)\n",
        "c = np.random.normal(0, 1, size=100)\n",
        "plt.figure()\n",
        "plt.scatter(x, y, s=z*500, c=c, alpha=0.5)\n",
        "plt.colorbar()\n",
        "plt.show()"
      ]
    }
  ],
  "metadata": {
    "kernelspec": {
      "display_name": "Python 3 (ipykernel)",
      "language": "python",
      "name": "python3"
    },
    "language_info": {
      "codemirror_mode": {
        "name": "ipython",
        "version": 3
      },
      "file_extension": ".py",
      "mimetype": "text/x-python",
      "name": "python",
      "nbconvert_exporter": "python",
      "pygments_lexer": "ipython3",
      "version": "3.8.12"
    },
    "colab": {
      "provenance": [],
      "include_colab_link": true
    }
  },
  "nbformat": 4,
  "nbformat_minor": 5
}