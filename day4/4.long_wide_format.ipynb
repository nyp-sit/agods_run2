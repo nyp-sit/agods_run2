{
 "cells": [
  {
   "cell_type": "markdown",
   "id": "0dbc2277-fc75-423f-b464-aab92d8e414e",
   "metadata": {
    "id": "0dbc2277-fc75-423f-b464-aab92d8e414e"
   },
   "source": [
    "<img src=\"https://nyp-aicourse.s3.ap-southeast-1.amazonaws.com/agods/nyp_ago_logo.png\" width='300'/>\n",
    "\n",
    "Welcome to the lab! Before we get started here are a few pointers on using this notebooks.\n",
    "\n",
    "1. The notebook is composed of cells; cells can contain code which you can run, or they can hold text and/or images which are there for you to read.\n",
    "\n",
    "2. You can execute code cells by clicking the ```Run``` icon in the menu, or via the following keyboard shortcuts ```Shift-Enter``` (run and advance) or ```Ctrl-Enter``` (run and stay in the current cell).\n",
    "\n",
    "3. To interrupt cell execution, click the ```Stop``` button on the toolbar or navigate to the ```Kernel``` menu, and select ```Interrupt ```.\n",
    "    "
   ]
  },
  {
   "cell_type": "markdown",
   "id": "6cde6a14-6966-4f04-88f9-f8a62c74cc80",
   "metadata": {
    "id": "6cde6a14-6966-4f04-88f9-f8a62c74cc80"
   },
   "source": [
    "# Long format vs Wide format\n",
    "\n",
    "We often encountered data collected that is in either long format (long-form data) or wide format (wide-form data). \n",
    "\n",
    "<img src='images/long_form.png' />\n",
    "\n",
    "**Long Format** \n",
    "\n",
    "The dataframe on the left has a long format. The ‘Series ID’ and ‘Item’ columns represent the food category. The ‘Year Month’ is a single column that has all the months from Jan. 2020 to Apr. 2022, and the ‘Avg. Price ($)’ has a value corresponding to each month in the ‘Year Month’ column.\n",
    "\n",
    "Notice how the dataframe on the left is structured in a long format: each food category (‘Item’) has multiple repeating rows, each of which represents a specific year/month and the average food price corresponding to that year/month. Though we only have 5 food categories (‘items’), we have a total of 139 rows, making the dataframe a ‘long’ shape.\n",
    "\n",
    "A long-form data table has the following characteristics:\n",
    "- Each variable is a column\n",
    "- Each observation is a row\n",
    "\n",
    "**Wide format**\n",
    "\n",
    "In contrast, The dataframe on the right-hand side has a wide format — more like a spreadsheet-style format. In this format, each row represents a unique food category. We pivot the ‘Year Month’ column in the left dataframe so that each month is in a separate column — making the right dataframe a ‘wide’ shape. The values of the ‘Year Month’ column in the left table now become the column names in the right table and we have the ‘avg. price’ for each Month/Year column accordingly.\n",
    "\n",
    "The variables in this dataset are linked to the dimensions of the table, rather than to named fields. "
   ]
  },
  {
   "cell_type": "markdown",
   "id": "0e6dece0-24cd-4f52-baa3-15ee76c8c815",
   "metadata": {
    "id": "0e6dece0-24cd-4f52-baa3-15ee76c8c815"
   },
   "source": [
    "## Convert Long-form to Wide-form\n",
    "\n",
    "We will read in a dataset that is collected in long format and learn to convert it to wide format.\n"
   ]
  },
  {
   "cell_type": "code",
   "execution_count": null,
   "id": "aed2584d-574b-40b6-ba77-58293bfcf374",
   "metadata": {
    "id": "aed2584d-574b-40b6-ba77-58293bfcf374"
   },
   "outputs": [],
   "source": [
    "import pandas as pd\n",
    "\n",
    "df = pd.read_csv(\"datasets/long_data.csv\")\n",
    "df.head()"
   ]
  },
  {
   "cell_type": "markdown",
   "id": "dff8c076-df5b-4987-b305-28fcb53b0583",
   "metadata": {
    "id": "dff8c076-df5b-4987-b305-28fcb53b0583"
   },
   "source": [
    "To reshape the dataframe from long to wide in Pandas, we can use Pandas’ `pd.pivot()` method:\n",
    "\n",
    "`pd.pivot(df, index=, columns=, values=)`\n",
    "\n",
    "`columns`: Column to use to make new frame’s columns (e.g., ‘Year Month’).\n",
    "\n",
    "`values`: Column(s) to use for populating new frame’s values (e.g., ‘Avg. Price ($)).\n",
    "\n",
    "`index`: Column to use to make new frame’s index (e.g., ‘Series ID’ and ‘Item’). If None, use the existing index."
   ]
  },
  {
   "cell_type": "code",
   "execution_count": null,
   "id": "e4315c21-a6ad-4b10-86f3-786c16a72f26",
   "metadata": {
    "id": "e4315c21-a6ad-4b10-86f3-786c16a72f26"
   },
   "outputs": [],
   "source": [
    "df_wide = pd.pivot(df, index=['Series ID', 'Item'], columns='Year Month', values='Ave Price')\n",
    "df_wide.head()"
   ]
  },
  {
   "cell_type": "markdown",
   "id": "214010c3-a7bb-48c0-910f-86cfce31fa21",
   "metadata": {
    "id": "214010c3-a7bb-48c0-910f-86cfce31fa21"
   },
   "source": [
    "## Convert Wide-form to Long-form\n",
    "\n",
    "To convert from wide-form to long-form, we can use pandas [`melt()`](https://pandas.pydata.org/docs/reference/api/pandas.DataFrame.melt.html) to unpivot a dataframe from wide to long:\n",
    "\n",
    "`pd.melt(df, id_vars=, value_vars=, var_name=, value_name=, ignore_index=)`\n",
    "\n",
    "`id_vars`: Column(s) to use as identifier variables\n",
    "\n",
    "`value_vars`: Column(s) to unpivot. In our example, it would be the list of year/month columns (‘2020 Jan’, ‘2020 Feb’, ‘2020 Mar’, etc.)\n",
    "\n",
    "`var_name`: Name to use for the ‘variable’ column\n",
    "\n",
    "`value_name` : Name to use for the ‘value’ column\n",
    "\n",
    "`ignore_index`: If ‘True’, original index is ignored. If ‘False’, the original index is retained"
   ]
  },
  {
   "cell_type": "code",
   "execution_count": null,
   "id": "0a086165-2558-4eec-8ce4-513fdde673ea",
   "metadata": {
    "id": "0a086165-2558-4eec-8ce4-513fdde673ea"
   },
   "outputs": [],
   "source": [
    "year_list = list(df_wide.columns)\n",
    "print(year_list)"
   ]
  },
  {
   "cell_type": "code",
   "execution_count": null,
   "id": "d3847fd5-343a-44cc-96a5-5d93b9ace1d8",
   "metadata": {
    "id": "d3847fd5-343a-44cc-96a5-5d93b9ace1d8"
   },
   "outputs": [],
   "source": [
    "df_long = pd.melt(df_wide, value_vars=year_list, value_name='Ave Price $', ignore_index = False)\n",
    "df_long.head(10)"
   ]
  },
  {
   "cell_type": "markdown",
   "id": "cd2dcc53-b07c-4960-8385-3207c82dc066",
   "metadata": {
    "id": "cd2dcc53-b07c-4960-8385-3207c82dc066"
   },
   "source": [
    "## Exercise \n",
    "\n",
    "The dataset below is somewhere between long and wide format. Convert the data into completely long format."
   ]
  },
  {
   "cell_type": "code",
   "execution_count": null,
   "id": "61e05f35-120c-479c-ab51-4616d7df30be",
   "metadata": {
    "id": "61e05f35-120c-479c-ab51-4616d7df30be"
   },
   "outputs": [],
   "source": [
    "data = pd.read_csv(\"datasets/faang.csv\")\n",
    "data.head()"
   ]
  },
  {
   "cell_type": "code",
   "execution_count": null,
   "id": "e3dfdeb7-2abc-421b-95f4-5fe272c6fcc9",
   "metadata": {
    "id": "e3dfdeb7-2abc-421b-95f4-5fe272c6fcc9"
   },
   "outputs": [],
   "source": [
    "##TODO:  Convert to long form"
   ]
  }
 ],
 "metadata": {
  "colab": {
   "include_colab_link": true,
   "provenance": []
  },
  "kernelspec": {
   "display_name": "Python 3 (ipykernel)",
   "language": "python",
   "name": "python3"
  },
  "language_info": {
   "codemirror_mode": {
    "name": "ipython",
    "version": 3
   },
   "file_extension": ".py",
   "mimetype": "text/x-python",
   "name": "python",
   "nbconvert_exporter": "python",
   "pygments_lexer": "ipython3",
   "version": "3.9.17"
  }
 },
 "nbformat": 4,
 "nbformat_minor": 5
}
