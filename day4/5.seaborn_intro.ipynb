{
 "cells": [
  {
   "cell_type": "markdown",
   "metadata": {
    "id": "a14028cd-85ae-493d-af64-f35112d0c53d"
   },
   "source": [
    "<img src=\"https://nyp-aicourse.s3.ap-southeast-1.amazonaws.com/agods/nyp_ago_logo.png\" width='300'/>\n",
    "\n",
    "Welcome to the lab! Before we get started here are a few pointers on using this notebooks.\n",
    "\n",
    "1. The notebook is composed of cells; cells can contain code which you can run, or they can hold text and/or images which are there for you to read.\n",
    "\n",
    "2. You can execute code cells by clicking the ```Run``` icon in the menu, or via the following keyboard shortcuts ```Shift-Enter``` (run and advance) or ```Ctrl-Enter``` (run and stay in the current cell).\n",
    "\n",
    "3. To interrupt cell execution, click the ```Stop``` button on the toolbar or navigate to the ```Kernel``` menu, and select ```Interrupt ```.\n",
    "    "
   ]
  },
  {
   "cell_type": "markdown",
   "metadata": {
    "id": "7ICmYWD251op"
   },
   "source": [
    "# Seaborn\n",
    "\n",
    "Seaborn is a library for making statistical graphics in Python. It builds on top of matplotlib and integrates closely with pandas data structures.  \n",
    "\n",
    "It operates on complete dataset and perform the necessary *semantic mapping* and *statistical aggregation* to produce informative plots. Its dataset-oriented, declarative API allows you to focus on what the different elements of your plots mean, rather than on the details of how to draw them."
   ]
  },
  {
   "cell_type": "markdown",
   "metadata": {
    "id": "SozNkTil51op"
   },
   "source": [
    "Seaborn plotting function can be either an “axes-level” or “figure-level” function. Axes-level function plots data onto a single `matplotlib.pyplot.Axes` object while the figure-level function interfaces with matplotlib through a seaborn object, usually a `FacetGrid` that manages the figure, and allows plotting data onto multiple `matplotlib.pyplot.Axes` as subplots. The single figure-level function offers a unitary interface to its various axes-level functions. The organization looks a bit like this:\n",
    "\n",
    "<img src=\"images/sns_function_overview.png\"/>\n"
   ]
  },
  {
   "cell_type": "code",
   "execution_count": null,
   "metadata": {
    "id": "-6GO1qWi51oq"
   },
   "outputs": [],
   "source": [
    "import numpy as np\n",
    "import pandas as pd\n",
    "import matplotlib.pyplot as plt\n",
    "import seaborn as sns\n",
    "\n",
    "%matplotlib inline"
   ]
  },
  {
   "cell_type": "markdown",
   "metadata": {
    "id": "fXrNTUvd51oq"
   },
   "source": [
    "## A Quick Example\n",
    "\n",
    "The following is an example of plotting using the Seaborn library. "
   ]
  },
  {
   "cell_type": "code",
   "execution_count": null,
   "metadata": {
    "id": "daXrrRzF51or"
   },
   "outputs": [],
   "source": [
    "data = pd.read_csv(\"datasets/salary.csv\", index_col=0)[:1000]\n",
    "data.head()"
   ]
  },
  {
   "cell_type": "code",
   "execution_count": null,
   "metadata": {
    "id": "8uj1yqaO51or"
   },
   "outputs": [],
   "source": [
    "sns.set_theme(style=\"ticks\")\n",
    "sns.relplot(x=\"Salary\", y=\"Age\", \n",
    "            hue=\"Education\", style=\"Education\", \n",
    "            col=\"Gender\", \n",
    "            data=data)"
   ]
  },
  {
   "cell_type": "markdown",
   "metadata": {
    "id": "rk8myGbK51or"
   },
   "source": [
    "Notice how we provided only the names of the variables (e.g. *Salary*, *Age*, *Education*, *Gender*), which are the correponding column names in the dataframe) and their roles (e.g *x* or *y-axis* values, *hue*, *col*) in the plot. Behind the scenes, seaborn handled the translation from values in the dataframe to arguments that matplotlib understands. This declarative approach lets you stay focused on the questions that you want to answer, rather than on the details of how to control matplotlib."
   ]
  },
  {
   "cell_type": "markdown",
   "metadata": {
    "id": "Vw4jjTfN51or"
   },
   "source": [
    "## Controlling Figure Aesthetics\n",
    "\n",
    "In Seaborn, we can use customized themes and a high-level interface for controlling the appearance of Matplotlib figures. "
   ]
  },
  {
   "cell_type": "markdown",
   "metadata": {
    "id": "GHa6xNig51os"
   },
   "source": [
    "Below is the default look of from the plot using Matplotlib. "
   ]
  },
  {
   "cell_type": "code",
   "execution_count": null,
   "metadata": {
    "id": "wHyLqZYi51os"
   },
   "outputs": [],
   "source": [
    "plt.figure()\n",
    "x1 = [10, 20, 5, 40, 8]\n",
    "x2 = [30, 43, 9, 7, 20]\n",
    "plt.plot(x1, label='Group A')\n",
    "plt.plot(x2, label='Group B')\n",
    "plt.legend()\n",
    "plt.show()"
   ]
  },
  {
   "cell_type": "markdown",
   "metadata": {
    "id": "nq_VriAa51os"
   },
   "source": [
    "To switch to the Seaborn defaults, simply call the `set_theme()` function:"
   ]
  },
  {
   "cell_type": "code",
   "execution_count": null,
   "metadata": {
    "id": "KfCLOWbC51os"
   },
   "outputs": [],
   "source": [
    "sns.set_theme()\n",
    "plt.figure()\n",
    "x1 = [10, 20, 5, 40, 8]\n",
    "x2 = [30, 43, 9, 7, 20]\n",
    "plt.plot(x1, label='Group A')\n",
    "plt.plot(x2, label='Group B')\n",
    "plt.legend()\n",
    "plt.show()"
   ]
  },
  {
   "cell_type": "markdown",
   "metadata": {
    "id": "pKnKNVxC51os"
   },
   "source": [
    "## Seaborn Figure Styles\n",
    "\n",
    "To control the plot style, Seaborn provides two methods: `set_style()`and `axes_style()`\n",
    "\n",
    "[set_style()]((https://seaborn.pydata.org/generated/seaborn.set_style.html) sets the aesthetic style of the plots."
   ]
  },
  {
   "cell_type": "code",
   "execution_count": null,
   "metadata": {
    "id": "mbtED8By51ot"
   },
   "outputs": [],
   "source": [
    "sns.set_style(\"whitegrid\")\n",
    "# sns.set_theme(style='whitegrid')\n",
    "plt.figure()\n",
    "x1 = [10, 20, 5, 40, 8]\n",
    "x2 = [30, 43, 9, 7, 20]\n",
    "plt.plot(x1, label='Group A')\n",
    "plt.plot(x2, label='Group B')\n",
    "plt.legend()\n",
    "plt.show()"
   ]
  },
  {
   "cell_type": "markdown",
   "metadata": {
    "id": "DPZwJCJG51ot"
   },
   "source": [
    "[axes_style()](https://seaborn.pydata.org/generated/seaborn.axes_style.html) returns a parameter dictionary for the aesthetic style of the plots. The function can be used in a `with` statement to temporarily change the style parameters."
   ]
  },
  {
   "cell_type": "code",
   "execution_count": null,
   "metadata": {
    "id": "_ugeluIr51ot"
   },
   "outputs": [],
   "source": [
    "sns.set_theme()\n",
    "plt.figure()\n",
    "x1 = [10, 20, 5, 40, 8]\n",
    "x2 = [30, 43, 9, 7, 20]\n",
    "with sns.axes_style('darkgrid'):\n",
    "    plt.plot(x1, label='Group A')\n",
    "    plt.plot(x2, label='Group B')\n",
    "plt.legend()\n",
    "plt.show()"
   ]
  },
  {
   "cell_type": "markdown",
   "metadata": {
    "id": "pYoVNsEn51ot"
   },
   "source": [
    "## Removing Axes Spines\n",
    "\n",
    "Sometimes, it might be desirable to remove the top and right axes spines. The despine() function is used to remove the top and right axes spines from the plot:"
   ]
  },
  {
   "cell_type": "code",
   "execution_count": null,
   "metadata": {
    "id": "2URGneP851ot"
   },
   "outputs": [],
   "source": [
    "sns.set_style(\"white\")\n",
    "plt.figure()\n",
    "x1 = [10, 20, 5, 40, 8]\n",
    "x2 = [30, 43, 9, 7, 20]\n",
    "plt.plot(x1, label='Group A')\n",
    "plt.plot(x2, label='Group B')\n",
    "sns.despine()\n",
    "plt.legend()\n",
    "plt.show()"
   ]
  },
  {
   "cell_type": "markdown",
   "metadata": {
    "id": "NJibRT7_51ot"
   },
   "source": [
    "## Controlling the Scale of Plot Elements\n",
    "\n",
    "A separate set of parameters controls the scale of plot elements. This is a handy way to use the same code to create plots that are suited for use in contexts where larger or smaller plots are necessary. To control the context, two functions can be used.\n",
    "\n",
    "[set_context()](https://seaborn.pydata.org/generated/seaborn.set_context.html) sets the plotting context parameters. This does not change the overall style of the plot but affects things such as the size of the labels and lines. The base context is a *notebook*, and the other contexts are *paper*, *talk*, and *poster*—versions of the notebook parameters scaled by 0.8, 1.3, and 1.6, respectively."
   ]
  },
  {
   "cell_type": "code",
   "execution_count": null,
   "metadata": {
    "id": "3MwXy6Uf51ou"
   },
   "outputs": [],
   "source": [
    "sns.set_context(\"poster\")\n",
    "plt.figure()\n",
    "x1 = [10, 20, 5, 40, 8]\n",
    "x2 = [30, 43, 9, 7, 20]\n",
    "plt.plot(x1, label='Group A')\n",
    "plt.plot(x2, label='Group B')\n",
    "plt.legend()\n",
    "plt.show()"
   ]
  },
  {
   "cell_type": "markdown",
   "metadata": {
    "id": "2sRrDEtK51ou"
   },
   "source": [
    "## Color Palettes\n",
    "\n",
    "There are three general groups of color palettes, namely *categorical*, *sequential*, and *diverging*, which we will break down in the following sections.                                      "
   ]
  },
  {
   "cell_type": "markdown",
   "metadata": {
    "id": "pZ84fO8O51ou"
   },
   "source": [
    "### Categorical Color Palettes\n",
    "\n",
    "Categorical palettes (or qualitative color palettes) are best suited for distinguishing categorical data that does not have an inherent ordering. Some examples where it is suitable to use categorical color palettes are line charts showing stock trends for different companies, and a bar chart with subcategories; basically, any time you want to group your data. \n",
    "\n",
    "There are six default themes in Seaborn: deep, muted, bright, pastel, dark, and colorblind:\n",
    "\n",
    "<img src='images/categorical_color_palette.png' width=60%/>"
   ]
  },
  {
   "cell_type": "code",
   "execution_count": null,
   "metadata": {
    "id": "h5nELwGe51ou"
   },
   "outputs": [],
   "source": [
    "sns.palplot(sns.color_palette(\"pastel\"))"
   ]
  },
  {
   "cell_type": "markdown",
   "metadata": {
    "id": "dfnqZru251ou"
   },
   "source": [
    "### Sequential Color Palettes\n",
    "\n",
    "Sequential color palettes are appropriate for sequential data ranges from low to high values, or vice versa. It is recommended to use bright colors for low values and dark ones for high values. Some examples of sequential data are absolute temperature, weight, height, or the number of students in a class."
   ]
  },
  {
   "cell_type": "markdown",
   "metadata": {
    "id": "BM_JAPFz51ou"
   },
   "source": [
    "One of the sequential color palettes that Seaborn offers is cubehelix palettes. They have a linear increase or decrease in brightness and some variation in hue, meaning that even when converted to black and white, the information is preserved."
   ]
  },
  {
   "cell_type": "code",
   "execution_count": null,
   "metadata": {
    "id": "DtOb3NDv51ov"
   },
   "outputs": [],
   "source": [
    "sns.cubehelix_palette(as_cmap=True)"
   ]
  },
  {
   "cell_type": "markdown",
   "metadata": {
    "id": "ccEvqVMp51ov"
   },
   "source": [
    "The two main things you’ll change are the start (a value between 0 and 3) and rot, or number of rotations (an arbitrary value, but usually between -1 and 1)"
   ]
  },
  {
   "cell_type": "code",
   "execution_count": null,
   "metadata": {
    "id": "Pq5LAnVV51ov"
   },
   "outputs": [],
   "source": [
    "sns.cubehelix_palette(start=.5, rot=-.5, as_cmap=True)"
   ]
  },
  {
   "cell_type": "code",
   "execution_count": null,
   "metadata": {
    "id": "dJrhrU3p51ov"
   },
   "outputs": [],
   "source": [
    "sns.cubehelix_palette(start=.5, rot=-.5, as_cmap=True)"
   ]
  },
  {
   "cell_type": "markdown",
   "metadata": {
    "id": "RlECz3uJ51ov"
   },
   "source": [
    "Creating custom sequential palettes that only produce colors that start at either light or dark desaturated colors and end with a specified color can be accomplished with light_palette() or dark_palette()."
   ]
  },
  {
   "cell_type": "code",
   "execution_count": null,
   "metadata": {
    "id": "jBcCWHZD51ov"
   },
   "outputs": [],
   "source": [
    "sns.light_palette(\"magenta\", as_cmap=True)"
   ]
  },
  {
   "cell_type": "code",
   "execution_count": null,
   "metadata": {
    "id": "YXkT28cE51ov"
   },
   "outputs": [],
   "source": [
    "sns.dark_palette(\"magenta\", as_cmap=True)"
   ]
  },
  {
   "cell_type": "markdown",
   "metadata": {
    "id": "PJAnzo0E51ov"
   },
   "source": [
    "By default, creating a color palette only returns a list of colors. If you want to use it as a colormap object, for example, in combination with a heatmap, set the as_cmap=True argument, as demonstrated in the following example:"
   ]
  },
  {
   "cell_type": "code",
   "execution_count": null,
   "metadata": {
    "id": "HE5SamA851ow"
   },
   "outputs": [],
   "source": [
    "x = np.arange(25).reshape(5, 5)\n",
    "ax = sns.heatmap(x, cmap=sns.cubehelix_palette(as_cmap=True))"
   ]
  },
  {
   "cell_type": "markdown",
   "metadata": {
    "id": "WDKD2oSM51ow"
   },
   "source": [
    "### Diverging Color Palettes\n",
    "\n",
    "Diverging color palettes are used for data that consists of a well-defined midpoint. An emphasis is placed on both high and low values. For example, if you are plotting any population *changes* for a particular region from some baseline population, it is best to use diverging colormaps to show the relative increase and decrease in the population. \n",
    "\n",
    "Seaborn provides few diverging palettes, e.g. `vlag`, `icefire`.  Matplotlib also provides a few, e.g. `Spectral` and `coolwarm`,"
   ]
  },
  {
   "cell_type": "code",
   "execution_count": null,
   "metadata": {
    "id": "jbvSj93n51ow"
   },
   "outputs": [],
   "source": [
    "sns.color_palette('coolwarm', as_cmap=True)"
   ]
  },
  {
   "cell_type": "markdown",
   "metadata": {
    "id": "0Jv9WWrA51ow"
   },
   "source": [
    "You can also specify your own custom colormap for diverging data. This function makes diverging palettes using the husl color system. You pass it two hues (in degrees) and, optionally, the lightness and saturation values for the extremes.\n",
    "\n",
    "You can refer to the hue wheel used here: \n",
    "\n",
    "<img src=\"images/color_wheel.png\" width=60% />"
   ]
  },
  {
   "cell_type": "code",
   "execution_count": null,
   "metadata": {
    "id": "8KVjYJiw51ow"
   },
   "outputs": [],
   "source": [
    "sns.diverging_palette(120, 300, s=60, as_cmap=True)"
   ]
  }
 ],
 "metadata": {
  "colab": {
   "include_colab_link": true,
   "provenance": []
  },
  "kernelspec": {
   "display_name": "Python 3 (ipykernel)",
   "language": "python",
   "name": "python3"
  },
  "language_info": {
   "codemirror_mode": {
    "name": "ipython",
    "version": 3
   },
   "file_extension": ".py",
   "mimetype": "text/x-python",
   "name": "python",
   "nbconvert_exporter": "python",
   "pygments_lexer": "ipython3",
   "version": "3.9.17"
  }
 },
 "nbformat": 4,
 "nbformat_minor": 4
}
