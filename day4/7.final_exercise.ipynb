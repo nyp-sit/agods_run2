{
 "cells": [
  {
   "cell_type": "markdown",
   "id": "ba1fdaf7-0488-4833-8f57-c1890fc79318",
   "metadata": {
    "id": "ba1fdaf7-0488-4833-8f57-c1890fc79318"
   },
   "source": [
    "<img src=\"https://nyp-aicourse.s3.ap-southeast-1.amazonaws.com/agods/nyp_ago_logo.png\" width='300'/>\n",
    "\n",
    "Welcome to the lab! Before we get started here are a few pointers on using this notebooks.\n",
    "\n",
    "1. The notebook is composed of cells; cells can contain code which you can run, or they can hold text and/or images which are there for you to read.\n",
    "\n",
    "2. You can execute code cells by clicking the ```Run``` icon in the menu, or via the following keyboard shortcuts ```Shift-Enter``` (run and advance) or ```Ctrl-Enter``` (run and stay in the current cell).\n",
    "\n",
    "3. To interrupt cell execution, click the ```Stop``` button on the toolbar or navigate to the ```Kernel``` menu, and select ```Interrupt ```.\n",
    "    "
   ]
  },
  {
   "cell_type": "markdown",
   "id": "0a100786-279f-491f-8799-af0c9cc18515",
   "metadata": {
    "id": "0a100786-279f-491f-8799-af0c9cc18515"
   },
   "source": [
    "# Final Exercise\n",
    "\n",
    "In this final exercise, we will apply our data visualization skills on worldwide COVID-19 dataset."
   ]
  },
  {
   "cell_type": "code",
   "execution_count": null,
   "id": "8208f824-3598-4afd-8b17-a86cb079a8c7",
   "metadata": {
    "id": "8208f824-3598-4afd-8b17-a86cb079a8c7"
   },
   "outputs": [],
   "source": [
    "import pandas as pd \n",
    "import numpy as np\n",
    "import matplotlib.pyplot as plt\n",
    "import seaborn as sns\n",
    "import matplotlib.dates as md"
   ]
  },
  {
   "cell_type": "code",
   "execution_count": null,
   "id": "60568ab6-67a3-4177-b78d-eb0bd8ded76b",
   "metadata": {
    "id": "60568ab6-67a3-4177-b78d-eb0bd8ded76b"
   },
   "outputs": [],
   "source": [
    "# set panda option to display rows up to 200\n",
    "pd.options.display.max_rows = 200"
   ]
  },
  {
   "cell_type": "code",
   "execution_count": null,
   "id": "3ff67ad0-d130-4d9d-a505-1f8e84877bbe",
   "metadata": {
    "id": "3ff67ad0-d130-4d9d-a505-1f8e84877bbe"
   },
   "outputs": [],
   "source": [
    "data_file = 'datasets/owid-covid-data-filtered.csv'\n",
    "df = pd.read_csv(data_file)"
   ]
  },
  {
   "cell_type": "markdown",
   "id": "808f0a89-4345-4321-be3d-fc6250b2bea4",
   "metadata": {
    "id": "808f0a89-4345-4321-be3d-fc6250b2bea4"
   },
   "source": [
    "### Part 1\n",
    "\n",
    "Display all the column information and answer the following questions: \n",
    "1. How many columns are there? \n",
    "2. How many entries (rows) are there? \n",
    "3. Do we have any null values?\n",
    "3. What is the datatype of 'date' column? \n",
    "\n",
    "Change the date column into appropriate datatype (*Hint*:  use `pd.to_datatime()`)"
   ]
  },
  {
   "cell_type": "code",
   "execution_count": null,
   "id": "e9530ce6-606d-4f53-b5b9-55d7e2bc86cc",
   "metadata": {
    "id": "e9530ce6-606d-4f53-b5b9-55d7e2bc86cc"
   },
   "outputs": [],
   "source": [
    "## TODO: \n",
    "\n",
    "# display the info \n",
    "\n",
    "\n",
    "# change the datatype of date column\n",
    "\n"
   ]
  },
  {
   "cell_type": "markdown",
   "id": "dabff7ca-5008-41fd-9e9b-c040875fa99e",
   "metadata": {
    "id": "dabff7ca-5008-41fd-9e9b-c040875fa99e"
   },
   "source": [
    "### Part 2\n",
    "\n",
    "Let us find the top 10 countries with the most number of cases of Covid-19. \n",
    "\n",
    "To do this, you can follow the following stesp: \n",
    "1. group the data by 'location' and sum the 'new_cases'. \n",
    "2. Sort the resultant series with descending order \n",
    "3. Use slicing to take the first 10 rows"
   ]
  },
  {
   "cell_type": "code",
   "execution_count": null,
   "id": "5ebcae91-e0b7-49e2-9e15-c653299ce7d8",
   "metadata": {
    "id": "5ebcae91-e0b7-49e2-9e15-c653299ce7d8"
   },
   "outputs": [],
   "source": [
    "## TODO: \n",
    "\n",
    "# Step 1: Use groupby() and then sum()\n",
    "total_cases_grouped = ??\n",
    "\n",
    "# Step 2: Use sort_values() to sort the total cases in descending order \n",
    "total_cases_grouped = ??\n",
    "\n",
    "# Step 3: Take the first 10 rows. To get the country names as list, take the index of the series.\n",
    "\n",
    "top10_countries = ??\n",
    "print(top10_countries)"
   ]
  },
  {
   "cell_type": "markdown",
   "id": "afe3eee1-1ab5-4576-8197-3a336b06ddb2",
   "metadata": {
    "id": "afe3eee1-1ab5-4576-8197-3a336b06ddb2"
   },
   "source": [
    "We will now find the total number of cases and total number of deaths of the top 20 countries and create a new dataframe with these information."
   ]
  },
  {
   "cell_type": "code",
   "execution_count": null,
   "id": "fddbe002-d5b4-4839-a9ef-5135e15ab74d",
   "metadata": {
    "id": "fddbe002-d5b4-4839-a9ef-5135e15ab74d"
   },
   "outputs": [],
   "source": [
    "total_cases = total_cases_grouped[0:20].values # Number of Cases in Top 10 Countries \n",
    "\n",
    "total_deaths_grouped = df.groupby('location')['new_deaths'].sum()\n",
    "total_deaths = total_deaths_grouped[top10_countries].values # Number of Deaths in Top 10 Countries\n",
    "\n",
    "total_cases_deaths_df = pd.DataFrame({'Country': top10_countries, 'Total Cases': total_cases, 'Total Deaths': total_deaths})\n",
    "print(total_cases_deaths_df)"
   ]
  },
  {
   "cell_type": "markdown",
   "id": "314bbeaf-510d-4eb9-ba9b-c2dec0c54976",
   "metadata": {
    "id": "314bbeaf-510d-4eb9-ba9b-c2dec0c54976"
   },
   "source": [
    "The above data is better visualized through a bar plot, where each country has one bar for the total number of cases and a second bar for the total number of deaths.\n",
    "\n",
    "To do this we will convert the data into the following format: \n",
    "\n",
    "<img src='images/covid_long_form.png' />\n",
    "\n",
    "We will use a new variable 'Metric' to indicate the type of counts (\"Total Cases\" or \"Total Deaths\") and a value variable \"Case Count'.  \n",
    "\n",
    "### Part 3\n",
    "\n",
    "Convert the dataframe into another form using the `melt()` function where each country has two rows – one for total cases and the second for total deaths. Plot the converted dataframe using the barplot function of the seaborn library."
   ]
  },
  {
   "cell_type": "code",
   "execution_count": null,
   "id": "2891aff3-c5fd-4428-9890-a44a96dc79bc",
   "metadata": {
    "id": "2891aff3-c5fd-4428-9890-a44a96dc79bc"
   },
   "outputs": [],
   "source": [
    "## TODO: \n",
    "\n",
    "# Step 1: convert to long form, with id variable = 'Country', value variables = 'Total Cases', 'Total Deaths', variable name = 'Metric', and value name as 'Case Count'\n",
    "\n",
    "\n",
    "\n",
    "# Step 2: plt the sns barplot, with title \"Most Affected Countries (Top 10)\". \n",
    "\n"
   ]
  },
  {
   "cell_type": "markdown",
   "id": "fc3c3a2d-d05e-46d6-ae94-28b1f5bb550d",
   "metadata": {
    "id": "fc3c3a2d-d05e-46d6-ae94-28b1f5bb550d"
   },
   "source": [
    "### Part 4 \n",
    "\n",
    "Let's visualize the top 10 countries with the most testing rate.  Testing rate is defined here as total tests divided by the total population of the country\n",
    "\n",
    " "
   ]
  },
  {
   "cell_type": "code",
   "execution_count": null,
   "id": "7e5420a6-85eb-4eb0-8eb2-124d00a024ae",
   "metadata": {
    "id": "7e5420a6-85eb-4eb0-8eb2-124d00a024ae"
   },
   "outputs": [],
   "source": [
    "## TODO: \n",
    "\n",
    "# Step 1: Find the total tests grouped by country \n",
    "\n",
    "\n",
    "# Step 2: Find the total population grouped by country. We will just take the last value of the group\n",
    "\n",
    "\n",
    "# Step 3: Compute the testing fate and sort them according to descending order. Take the top 10\n",
    "\n",
    "\n",
    "# Step 4: Use seaborn horizontal bar chart to compare the top 20 countries, Set the appropriate title and x, y labels\n"
   ]
  },
  {
   "cell_type": "markdown",
   "id": "85dce954-80a8-4685-8d94-3644fb0aa4e3",
   "metadata": {
    "id": "85dce954-80a8-4685-8d94-3644fb0aa4e3"
   },
   "source": [
    "### Part 5\n",
    "\n",
    "Let us now compare the rate of increase of coronavirus cases between the two countries: United States and India. This will be a date series visualization with the dates in increasing order of time on the X-axis, and the number of cases on the Y-axis. \n",
    "\n",
    "As not all the dates are available for each country, we only want to display those dates where both country has data on 'total_cases'.  We can do this by first extract the date and total cases columns of each country into two separate dataframes. These two dataframes are then merged into a single dataframe using an ‘inner join’ operation on the date column. An inner join ensures that only those date values are included which are present in both dataframes being merged."
   ]
  },
  {
   "cell_type": "code",
   "execution_count": null,
   "id": "38e25f75-6ece-4399-9dc4-b4546a39bca1",
   "metadata": {
    "id": "38e25f75-6ece-4399-9dc4-b4546a39bca1"
   },
   "outputs": [],
   "source": [
    "## TODO:\n",
    "\n",
    "# Step 1: Extract the date and total cases of India and US into a separate data frame \n",
    "\n",
    "\n",
    "# Step 2: Merge the two dataframes using inner join on date\n",
    "\n",
    "\n",
    "\n",
    "# Step 3: Plot the merged dataframe\n",
    "\n",
    "\n"
   ]
  },
  {
   "cell_type": "markdown",
   "id": "de729b22-9d1e-47c6-8519-c96a2157c3e1",
   "metadata": {
    "id": "de729b22-9d1e-47c6-8519-c96a2157c3e1"
   },
   "source": [
    "### Part 6\n",
    "\n",
    "We would like to know if there is some correlation between between death rate and the diabetes prevalence of countries in Asia continent.\n",
    "We will compute the death rate as $\\frac{total deathts}{population}*100$\n",
    "\n",
    "You will create a dataframe that consists of the following columns: 'Death Rate', 'Diabetes Prevalence' "
   ]
  },
  {
   "cell_type": "code",
   "execution_count": null,
   "id": "bef21cab-94af-4e0d-a1f2-8bb293a0d02f",
   "metadata": {
    "id": "bef21cab-94af-4e0d-a1f2-8bb293a0d02f"
   },
   "outputs": [],
   "source": [
    "## TODO: \n",
    "\n",
    "# Step 1: create a subset of asia countries \n",
    "\n",
    "\n",
    "\n",
    "# Step 2: get the total deaths, total population, diabetes prevalence of each countries\n",
    "\n",
    "\n",
    "\n",
    "# Step 3: Compute the  death rate \n",
    "\n",
    "\n",
    "\n",
    "\n",
    "# Step 4: Create a dataframe that has two columns: 'Death Rate', 'Diabetes Prevalence'\n",
    "\n",
    "\n",
    "\n",
    "\n",
    "# Step 5: Plot the relational plot between \"Death Rate' vs 'Diabetes Prevalence'\n",
    "\n",
    "\n"
   ]
  },
  {
   "cell_type": "markdown",
   "id": "e3c48e95-f528-40ba-8e51-68999cb5001e",
   "metadata": {
    "id": "e3c48e95-f528-40ba-8e51-68999cb5001e"
   },
   "source": [
    "### Part 7\n",
    "\n",
    "Plot the daily new covid cases of Singapore, between the period 1st Jan 2020 and 31st Dec 2020.  \n",
    "Identify the peak, that signifies the outbreak.  What do you think is the event that caused the outbreak ? Annotate the peak with the event description."
   ]
  },
  {
   "cell_type": "code",
   "execution_count": null,
   "id": "86323257-75d3-4f1d-937f-9f0b6db6317e",
   "metadata": {
    "id": "86323257-75d3-4f1d-937f-9f0b6db6317e"
   },
   "outputs": [],
   "source": [
    "# Step1: Create a subset for Singapore new deaths from 2020-01-01 to 2020-12-31\n",
    "\n",
    "\n",
    "\n",
    "# Step 2: Create a plot and set the date format to %Y-%m and major locator at monthly interval\n",
    "\n",
    "\n",
    "\n",
    "\n",
    "# Step 3: Plot the line chart, annotate the peak with the event name\n",
    "\n",
    "\n",
    "\n"
   ]
  },
  {
   "cell_type": "markdown",
   "id": "2254fc1e-ec00-43cd-9e02-f5934d412df8",
   "metadata": {
    "id": "2254fc1e-ec00-43cd-9e02-f5934d412df8"
   },
   "source": [
    "Congratulations! You have come to the end of the module! "
   ]
  }
 ],
 "metadata": {
  "colab": {
   "include_colab_link": true,
   "provenance": [],
   "toc_visible": true
  },
  "kernelspec": {
   "display_name": "Python 3 (ipykernel)",
   "language": "python",
   "name": "python3"
  },
  "language_info": {
   "codemirror_mode": {
    "name": "ipython",
    "version": 3
   },
   "file_extension": ".py",
   "mimetype": "text/x-python",
   "name": "python",
   "nbconvert_exporter": "python",
   "pygments_lexer": "ipython3",
   "version": "3.9.17"
  }
 },
 "nbformat": 4,
 "nbformat_minor": 5
}
