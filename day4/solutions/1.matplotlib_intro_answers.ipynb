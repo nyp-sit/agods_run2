{
 "cells": [
  {
   "cell_type": "markdown",
   "id": "a14028cd-85ae-493d-af64-f35112d0c53d",
   "metadata": {
    "id": "a14028cd-85ae-493d-af64-f35112d0c53d"
   },
   "source": [
    "<img src=\"https://nyp-aicourse.s3.ap-southeast-1.amazonaws.com/agods/nyp_ago_logo.png\" width='300'/>\n",
    "\n",
    "Welcome to the lab! Before we get started here are a few pointers on using this notebooks.\n",
    "\n",
    "1. The notebook is composed of cells; cells can contain code which you can run, or they can hold text and/or images which are there for you to read.\n",
    "\n",
    "2. You can execute code cells by clicking the ```Run``` icon in the menu, or via the following keyboard shortcuts ```Shift-Enter``` (run and advance) or ```Ctrl-Enter``` (run and stay in the current cell).\n",
    "\n",
    "3. To interrupt cell execution, click the ```Stop``` button on the toolbar or navigate to the ```Kernel``` menu, and select ```Interrupt ```.\n",
    "    "
   ]
  },
  {
   "cell_type": "code",
   "execution_count": null,
   "id": "e94e602a-f359-477e-be25-f3039203000d",
   "metadata": {
    "id": "_9cFFjwT0vf_"
   },
   "outputs": [],
   "source": [
    "# download dataset if you are using Google Colab\n",
    "# !wget https://nyp-aicourse.s3.ap-southeast-1.amazonaws.com/agods/day3_datasets.zip\n",
    "# !unzip day3_datasets.zip -d datasets"
   ]
  },
  {
   "cell_type": "markdown",
   "id": "ffc78452-7550-40a8-89fb-b8c55256d6ae",
   "metadata": {
    "id": "ffc78452-7550-40a8-89fb-b8c55256d6ae"
   },
   "source": [
    "# Matplotlib Quick Overview\n",
    "\n",
    "Plots in Matplotlib have a hierarchical structure that nests Python objects to create a tree-like structure. Each plot is encapsulated in a **Figure** object. This Figure is the top-level container of the visualization. It can have multiple **Axes**, which are basically individual plots inside this top-level container, where points can be specified in terms of x-y coordinates.\n",
    "\n",
    "<img src=\"https://github.com/nyp-sit/agods/raw/main/day3/images/figure_axes.png\"/>\n",
    "\n",
    "## Parts of Figure\n",
    "\n",
    "Below is an \"anatomy\" of a **Figure**, that showed components available in a Figure.  Matplotlib gives us the ability not only to display data, but customize every single bit of the plot. \n",
    "\n",
    "<img src=\"https://github.com/nyp-sit/agods/raw/main/day3/images/anatomy.png\" widh=\"80%\"/>\n",
    "\n",
    "### Figure \n",
    "\n",
    "The whole figure. The Figure keeps track of all the child Axes, a group of 'special' Artists (titles, figure legends, colorbars, etc).\n",
    "\n",
    "### Axes \n",
    "\n",
    "An Axes is an Artist attached to a Figure that contains a region for plotting data, and usually includes two Axis objects (be aware of the difference between Axes and Axis) that provide ticks and tick labels to provide scales for the data in the Axes. Each Axes also has a title (set via `set_title()`), an x-label (set via `set_xlabel()`), and a y-label (set via `set_ylabel()`).\n",
    "\n",
    "The Axes class and its member functions are the primary entry point to working with the OOP interface, and have most of the plotting methods defined on them (e.g. `ax.plot()`, shown above, uses the plot method)\n",
    "\n",
    "### Axis\n",
    "\n",
    "These objects set the scale and limits and generate ticks (the marks on the Axis) and ticklabels (strings labeling the ticks). The location of the ticks is determined by a *Locator* object and the ticklabel strings are formatted by a *Formatter*. \n",
    "\n",
    "### Artist \n",
    "\n",
    "Basically, everything visible on the Figure is an Artist (even Figure, Axes, and Axis objects). This includes Text objects, Line2D objects, etc. When the Figure is rendered, all of the Artists are drawn to the canvas. "
   ]
  },
  {
   "cell_type": "markdown",
   "id": "b93edf76-0061-4c06-b9c5-6560eb5887a2",
   "metadata": {
    "id": "b93edf76-0061-4c06-b9c5-6560eb5887a2"
   },
   "source": [
    "## Coding Style \n",
    "\n",
    "There are essentially two ways to use Matplotlib:\n",
    "\n",
    "- Explicitly create Figures and Axes, and call methods on them (the \"object-oriented (OO) style\").\n",
    "- Uses pyplot to automatically create and manage the Figures and Axes, and use pyplot functions for plottin (the \"scripting\" style)\n",
    "\n",
    "Below, we make the same plot using both OO style and pyplot interface.  We first load the necessary python packages:"
   ]
  },
  {
   "cell_type": "code",
   "execution_count": null,
   "id": "68128882-d29e-40e7-84e3-7da0a0bee469",
   "metadata": {
    "id": "68128882-d29e-40e7-84e3-7da0a0bee469"
   },
   "outputs": [],
   "source": [
    "# import the necessary packages \n",
    "\n",
    "import matplotlib as mpl\n",
    "import matplotlib.pyplot as plt\n",
    "import numpy as np"
   ]
  },
  {
   "cell_type": "markdown",
   "id": "1de27f7c-808d-4363-b397-82dfe9cd7237",
   "metadata": {
    "id": "1de27f7c-808d-4363-b397-82dfe9cd7237"
   },
   "source": [
    "Let us do a plot in OO style:"
   ]
  },
  {
   "cell_type": "code",
   "execution_count": null,
   "id": "3d55fd86-2348-49b2-8e8f-a7cc72f28338",
   "metadata": {
    "id": "3d55fd86-2348-49b2-8e8f-a7cc72f28338"
   },
   "outputs": [],
   "source": [
    "x = np.linspace(0, 2, 100)  # Sample data.\n",
    "\n",
    "# Note that even in the OO-style, we use `.pyplot.figure` to create the Figure.\n",
    "fig, ax = plt.subplots(figsize=(5, 2.7), constrained_layout=True)\n",
    "ax.plot(x, x, label='linear')  # Plot some data on the axes.\n",
    "ax.plot(x, x**2, label='quadratic')  # Plot more data on the axes...\n",
    "ax.plot(x, x**3, label='cubic')  # ... and some more.\n",
    "ax.set_xlabel('x label')  # Add an x-label to the axes.\n",
    "ax.set_ylabel('y label')  # Add a y-label to the axes.\n",
    "ax.set_title(\"Simple Plot\")  # Add a title to the axes.\n",
    "ax.legend();  # Add a legend."
   ]
  },
  {
   "cell_type": "markdown",
   "id": "c9a944fb-d974-4ed2-8625-72d3160bd725",
   "metadata": {
    "id": "c9a944fb-d974-4ed2-8625-72d3160bd725"
   },
   "source": [
    "and in pyplot (or scripting) style:"
   ]
  },
  {
   "cell_type": "code",
   "execution_count": null,
   "id": "ecffbd0a-4e0d-4eff-9694-140d6b2842c2",
   "metadata": {
    "id": "ecffbd0a-4e0d-4eff-9694-140d6b2842c2"
   },
   "outputs": [],
   "source": [
    "x = np.linspace(0, 2, 100)  # Sample data.\n",
    "\n",
    "plt.figure(figsize=(5, 2.7), constrained_layout=True)\n",
    "plt.plot(x, x, label='linear')  # Plot some data on the (implicit) axes.\n",
    "plt.plot(x, x**2, label='quadratic')  # etc.\n",
    "plt.plot(x, x**3, label='cubic')\n",
    "plt.xlabel('x label')\n",
    "plt.ylabel('y label')\n",
    "plt.title(\"Simple Plot\")\n",
    "plt.legend()\n"
   ]
  },
  {
   "cell_type": "markdown",
   "id": "8c882d14-2644-47d4-886c-23d533b353d7",
   "metadata": {
    "id": "8c882d14-2644-47d4-886c-23d533b353d7"
   },
   "source": [
    "Note that in the code above, we did not have an object reference to the axes. To get the axes, you can use `plt.gca()`, for example: \n",
    "\n",
    "```python\n",
    "plt.figure()\n",
    "plt.plot(...)\n",
    "plt.xlabel(...)\n",
    "plt.ylabel(...)\n",
    "ax = plt.gca()\n",
    "```"
   ]
  },
  {
   "cell_type": "markdown",
   "id": "525a7c07-2c0f-49ac-a949-1359de6df48a",
   "metadata": {
    "id": "525a7c07-2c0f-49ac-a949-1359de6df48a"
   },
   "source": [
    "## Types of Inputs to plotting functions\n",
    "\n",
    "Plotting functions expect `numpy.array` input, or objects that can be passed to `numpy.asarray()`.  Most methods will also parse an addressable object like a `dict`, a `numpy.recarray`, or a `pandas.DataFrame`. Matplotlib allows you provide the `data` keyword argument and generate plots passing the strings corresponding to the x and y variables. The example below shows how we can plot with pandas Dataframe object."
   ]
  },
  {
   "cell_type": "code",
   "execution_count": null,
   "id": "7dae77a2-4598-4301-b3ab-6f5f58902ca3",
   "metadata": {
    "id": "7dae77a2-4598-4301-b3ab-6f5f58902ca3"
   },
   "outputs": [],
   "source": [
    "import pandas as pd\n",
    "\n",
    "# let's create a dataframe with two columns 'x-key' and 'y-key'\n",
    "df = pd.DataFrame(\n",
    "    { 'x_key': [0, 1, 2 ,3], \n",
    "      'y_key' : [ 2, 4, 6, 8 ]\n",
    "    })\n",
    "\n",
    "plt.plot('x_key', 'y_key', data=df)"
   ]
  },
  {
   "cell_type": "markdown",
   "id": "972b420c-14d0-4e7b-bd7b-134da81d5679",
   "metadata": {
    "id": "972b420c-14d0-4e7b-bd7b-134da81d5679"
   },
   "source": [
    "## Pyplot Basics\n",
    "\n",
    "In most of the examples below, we will be using pyplot (scripting) style, as it contains a simpler interface for creating visualizations that allow the users to plot the data without explicitly configuring the Figure and Axes themselves. They are automatically configured to achieve the desired output. Only in cases when we need more advanced customization that cannot be done by pyplot, we will use the explicit methods on Axes and Figure."
   ]
  },
  {
   "cell_type": "markdown",
   "id": "f2dae187-c674-49e3-834e-b6a5b0aa8a1d",
   "metadata": {
    "id": "f2dae187-c674-49e3-834e-b6a5b0aa8a1d"
   },
   "source": [
    "### Creating Figures\n",
    "\n",
    "You can use `plt.figure()` to create a new Figure. This function returns a Figure instance, but it is also passed to the backend. Every Figure-related command that follows is applied to the current Figure and does not need to know the Figure instance."
   ]
  },
  {
   "cell_type": "code",
   "execution_count": null,
   "id": "add73654-1a25-475b-9511-7bdc8c4d60db",
   "metadata": {
    "id": "add73654-1a25-475b-9511-7bdc8c4d60db"
   },
   "outputs": [],
   "source": [
    "plt.figure()\n",
    "plt.plot([1,2,3])"
   ]
  },
  {
   "cell_type": "markdown",
   "id": "64ee3a1f-027e-4e13-aad1-e7361e57236f",
   "metadata": {
    "id": "64ee3a1f-027e-4e13-aad1-e7361e57236f"
   },
   "source": [
    "If we want to create more than one plots in the same figure, we have to call the subplots() method and get the reference to the Axes objects, so that we can specify which Axes to plot to."
   ]
  },
  {
   "cell_type": "code",
   "execution_count": null,
   "id": "2245a09b-de25-48ef-b991-5696282329ea",
   "metadata": {
    "id": "2245a09b-de25-48ef-b991-5696282329ea"
   },
   "outputs": [],
   "source": [
    "fig = plt.figure()  # an empty figure with no Axes\n",
    "fig, axs = plt.subplots(2, 2)  # a figure with a 2x2 grid of Axes\n",
    "axs[0][0].plot([1,2,3])\n",
    "axs[0][1].plot([2,3,4])\n",
    "axs[1][0].plot([4,5,6])\n",
    "axs[1][1].plot([7,8,9])"
   ]
  },
  {
   "cell_type": "markdown",
   "id": "fbc3e165-2048-47e6-9ea0-c2dd704a35a9",
   "metadata": {
    "id": "fbc3e165-2048-47e6-9ea0-c2dd704a35a9"
   },
   "source": [
    "By default, the Figure has a width of 6.4 inches and a height of 4.8 inches with a dpi (dots per inch) of 100. To change the default values of the Figure, we can use the parameters `figsize` and `dpi`.\n",
    "\n",
    "The following code snippet shows how we can manipulate a Figure:"
   ]
  },
  {
   "cell_type": "code",
   "execution_count": null,
   "id": "3df80a40-44ea-4b29-81f7-00871519fabf",
   "metadata": {
    "id": "3df80a40-44ea-4b29-81f7-00871519fabf"
   },
   "outputs": [],
   "source": [
    "#To change the width and the height\n",
    "plt.figure(figsize=(10, 5))\n",
    "#To change the dpi\n",
    "plt.figure(dpi=100)"
   ]
  },
  {
   "cell_type": "markdown",
   "id": "7b413e0d-42d1-4c35-bfcf-7222c2fca5ad",
   "metadata": {
    "id": "7b413e0d-42d1-4c35-bfcf-7222c2fca5ad"
   },
   "source": [
    "### Format Strings\n",
    "\n",
    "You can use a format string to specify colors, marker types, and line styles. A format string is specified as `[color][marker][line]`, where each item is optional. \n",
    "\n",
    "The following table is an example of how a color can be represented in one particular format:\n",
    "\n",
    "|Colors|Color|\n",
    "|-----|-----|\n",
    "|'b'|blue|\n",
    "|'r'|red|\n",
    "|'g'|green|\n",
    "|'m'|magenta\n",
    "|'c'|cyan|\n",
    "|'k'|black|\n",
    "|'w'|white|\n",
    "|'y'|yellow|\n",
    "\n",
    "All the available marker options are illustrated in the following figure:\n",
    "\n",
    "<img src='https://github.com/nyp-sit/agods/blob/main/day3/images/markers.jpg?raw=1' width=60%/>\n",
    "\n",
    "All the available line styles are illustrated in the following diagram. \n",
    "\n",
    "In general, solid lines should be used. We recommend restricting the use of dashed and dotted lines to either visualize some bounds/targets/goals or to depict uncertainty, for example, in a forecast:\n",
    "\n",
    "\n",
    "<img src='https://github.com/nyp-sit/agods/blob/main/day3/images/line_style.jpg?raw=1' width=60%/>"
   ]
  },
  {
   "cell_type": "markdown",
   "id": "1249c6b7-ba50-4dc8-b77b-d26bde14856b",
   "metadata": {
    "id": "1249c6b7-ba50-4dc8-b77b-d26bde14856b"
   },
   "source": [
    "To conclude, format strings are a handy way to quickly customize colors, marker types, and line styles. It is also possible to use arguments, such as `color`, `marker`, and `linestyle`."
   ]
  },
  {
   "cell_type": "markdown",
   "id": "1b94d7a7-aa0d-4446-b95b-42a4a9dc270c",
   "metadata": {
    "id": "1b94d7a7-aa0d-4446-b95b-42a4a9dc270c"
   },
   "source": [
    "### Plotting\n",
    "\n",
    "With `plt.plot([x], y, [fmt])`, you can plot data points as lines and/or markers. \n",
    "\n",
    "The function returns a list of Line2D objects representing the plotted data. \n",
    "\n",
    "By default, if you do not provide a format string (fmt), the data points will be connected with straight, solid lines. \n",
    "\n",
    "Let's try to plot something with the format string.\n"
   ]
  },
  {
   "cell_type": "code",
   "execution_count": null,
   "id": "af093adc-8a8f-4a31-a2d1-f53c07fb68ea",
   "metadata": {
    "id": "af093adc-8a8f-4a31-a2d1-f53c07fb68ea"
   },
   "outputs": [],
   "source": [
    "# plot with blue color, x marker, connected by -- line\n",
    "plt.plot([0,1,2,3], [2,4,6,8], 'ob--')"
   ]
  },
  {
   "cell_type": "markdown",
   "id": "ac618e2f-ab8b-4bee-ae9a-06ca385a5ca5",
   "metadata": {
    "id": "ac618e2f-ab8b-4bee-ae9a-06ca385a5ca5"
   },
   "source": [
    "To plot multiple data pairs, the syntax `plt.plot([x], y, [fmt], [x], y2, [fmt2], …)` can be used. \n",
    "\n",
    "Similarly, you can use `plt.plot` multiple times, since we are working on the same Figure and Axes:"
   ]
  },
  {
   "cell_type": "code",
   "execution_count": null,
   "id": "266513b8-07b8-46c7-a2d0-ddd688e4df9e",
   "metadata": {
    "id": "266513b8-07b8-46c7-a2d0-ddd688e4df9e"
   },
   "outputs": [],
   "source": [
    "plt.plot([2, 4, 6, 8], 'o') \n",
    "plt.plot([1, 5, 9, 13], 's')"
   ]
  },
  {
   "cell_type": "markdown",
   "id": "25a04f8a-d878-4467-adbc-76000193c637",
   "metadata": {
    "id": "25a04f8a-d878-4467-adbc-76000193c637"
   },
   "source": [
    "Any [`Line2D`](https://matplotlib.org/stable/api/_as_gen/matplotlib.lines.Line2D.html) properties can be used instead of format strings to further customize the plot. \n",
    "\n",
    "For example, the following code snippet shows how we can additionally specify the `linewidth` and `markersize` arguments:"
   ]
  },
  {
   "cell_type": "code",
   "execution_count": null,
   "id": "f7b4e800-de19-4caf-b22d-f4da1de5691d",
   "metadata": {
    "id": "f7b4e800-de19-4caf-b22d-f4da1de5691d"
   },
   "outputs": [],
   "source": [
    "plt.plot([2, 4, 6, 8], color='red', marker='o', \\\n",
    "         linestyle='dashed', linewidth=2, markersize=12)"
   ]
  },
  {
   "cell_type": "markdown",
   "id": "8c81be89-411a-4651-95ea-43fb99bc4981",
   "metadata": {
    "id": "8c81be89-411a-4651-95ea-43fb99bc4981"
   },
   "source": [
    "### Ticks\n",
    "\n",
    "Tick locations and labels can be set manually if Matplotlib's default isn't sufficient. \n",
    "\n",
    "Considering the previous plot, it might be preferable to only have ticks at multiples of ones at the x-axis. One way to accomplish this is to use `plt.xticks()` and `plt.yticks()` to either get or set the ticks manually.\n",
    "\n",
    "`plt.xticks(ticks, [labels], [**kwargs])` sets the current tick locations and labels of the x-axis.\n",
    "\n",
    "`**kwargs (optional): matplotlib.text.Text()` properties can be used to customize the appearance of the tick labels. A quite useful property is rotation; this allows you to rotate the tick labels to use space more efficiently."
   ]
  },
  {
   "cell_type": "code",
   "execution_count": null,
   "id": "f82789f6-0131-4fa4-9c5f-906aaa11a37f",
   "metadata": {
    "id": "f82789f6-0131-4fa4-9c5f-906aaa11a37f"
   },
   "outputs": [],
   "source": [
    "import numpy as np\n",
    "\n",
    "plt.figure(figsize=(6, 3))\n",
    "plt.plot([2, 4, 6, 8], 'o', [1, 5, 9, 13], 's')\n",
    "plt.xticks(ticks=np.arange(4))\n",
    "plt.show()"
   ]
  },
  {
   "cell_type": "markdown",
   "id": "01233ca5-daba-4954-bc89-b80d2eabfe53",
   "metadata": {
    "id": "01233ca5-daba-4954-bc89-b80d2eabfe53"
   },
   "source": [
    "It's also possible to specify tick labels, as follows:"
   ]
  },
  {
   "cell_type": "code",
   "execution_count": null,
   "id": "a34c496d-dce7-44db-92fe-eecb56918f87",
   "metadata": {
    "id": "a34c496d-dce7-44db-92fe-eecb56918f87"
   },
   "outputs": [],
   "source": [
    "plt.figure(figsize=(6, 3))\n",
    "plt.plot([2, 4, 6, 8], 'o', [1, 5, 9, 13], 's')\n",
    "plt.xticks(ticks=np.arange(4), \\\n",
    "           labels=['January', 'February', 'March', 'April'], \\\n",
    "           rotation=20)"
   ]
  },
  {
   "cell_type": "code",
   "execution_count": null,
   "id": "625fbf7b-33cb-46bf-86f8-e9707a1f5905",
   "metadata": {
    "id": "625fbf7b-33cb-46bf-86f8-e9707a1f5905"
   },
   "outputs": [],
   "source": [
    "plt.figure(figsize=(6, 3))\n",
    "plt.plot([2, 4, 6, 8], 'o', [1, 5, 9, 13], 's')\n",
    "plt.xticks(ticks=np.arange(4), \\\n",
    "           labels=['January', 'February', 'March', 'April'], \\\n",
    "           rotation=20)\n"
   ]
  },
  {
   "cell_type": "markdown",
   "id": "6f5a909a-6338-4761-b51d-c098d4fd71ec",
   "metadata": {
    "id": "6f5a909a-6338-4761-b51d-c098d4fd71ec"
   },
   "source": [
    "If you want to do even more sophisticated things with ticks, you should look into tick locators and formatters. This requires to explicitly call the Axes methods. You can get the current axes by calling '`plt.gca()`, e.g. \n",
    "\n",
    "```python\n",
    "ax = plt.gca()\n",
    "```\n",
    "\n",
    "For example, in the plot below, when we are plotting with array of date objects on the x-axis, the dates are very cluttered together and very hard to read. "
   ]
  },
  {
   "cell_type": "code",
   "execution_count": null,
   "id": "edb10046-d512-4fc4-a422-e0e45341248e",
   "metadata": {
    "id": "edb10046-d512-4fc4-a422-e0e45341248e"
   },
   "outputs": [],
   "source": [
    "dates = np.arange(np.datetime64('2021-11-15'), np.datetime64('2021-12-25'),\n",
    "                  np.timedelta64(1, 'h'))\n",
    "data = np.cumsum(np.random.randn(len(dates)))\n",
    "plt.plot(dates, data)"
   ]
  },
  {
   "cell_type": "markdown",
   "id": "68bfac13-f214-4272-86df-4605afd56584",
   "metadata": {
    "id": "68bfac13-f214-4272-86df-4605afd56584"
   },
   "source": [
    "Note that the date on the x axis is not displayed properly. We can specify what is the date interval we want by using the DateLocator and also rotate the display."
   ]
  },
  {
   "cell_type": "code",
   "execution_count": null,
   "id": "9b0729b4-ec74-4795-8141-0508b1f1cac6",
   "metadata": {
    "id": "9b0729b4-ec74-4795-8141-0508b1f1cac6"
   },
   "outputs": [],
   "source": [
    "import matplotlib.dates as md\n",
    "import dateutil.rrule as rrule\n",
    "\n",
    "dates = np.arange(np.datetime64('2021-11-15'), np.datetime64('2021-12-25'),\n",
    "                  np.timedelta64(1, 'h'))\n",
    "data = np.cumsum(np.random.randn(len(dates)))\n",
    "plt.plot(dates, data)\n",
    "ax = plt.gca()\n",
    "\n",
    "# set the xticks to be every 5 days \n",
    "locator = md.AutoDateLocator()\n",
    "locator.intervald[rrule.DAILY] = [5]\n",
    "ax.xaxis.set_major_locator(locator)\n",
    "\n",
    "#cdf = mpl.dates.ConciseDateFormatter(ax.xaxis.get_major_locator())\n",
    "#ax.xaxis.set_major_formatter(cdf)\n",
    "\n",
    "plt.xticks(rotation=35)\n",
    "plt.show()"
   ]
  },
  {
   "cell_type": "markdown",
   "id": "6b9f4fbe-d537-4276-8758-dfe955d82aaf",
   "metadata": {
    "id": "6b9f4fbe-d537-4276-8758-dfe955d82aaf"
   },
   "source": [
    "### Saving Figures\n",
    "The `plt.savefig(fname)` saves the current Figure. \n",
    "\n",
    "There are some useful optional parameters you can specify, such as dpi, format, or transparent. The following code snippet gives an example of how you can save a Figure:"
   ]
  },
  {
   "cell_type": "code",
   "execution_count": null,
   "id": "dbc7d131-a9de-4bc5-9fa3-0dfa496351cc",
   "metadata": {
    "id": "dbc7d131-a9de-4bc5-9fa3-0dfa496351cc"
   },
   "outputs": [],
   "source": [
    "plt.figure()\n",
    "plt.plot([1, 2, 4, 5], [1, 3, 4, 3], '-o')\n",
    "\n",
    "#bbox_inches='tight' removes the outer white margins\n",
    "plt.savefig('lineplot.png', dpi=300, bbox_inches='tight')"
   ]
  },
  {
   "cell_type": "markdown",
   "id": "50d64f23-df64-4463-a02b-3149fac9e167",
   "metadata": {
    "id": "50d64f23-df64-4463-a02b-3149fac9e167"
   },
   "source": [
    "### Basic Text and Legend Functions\n",
    "\n",
    "#### Labels\n",
    "\n",
    "Matplotlib provides a few label functions that we can use for setting labels to the `x-` and `y-axes`. The `plt.xlabel()` and `plt.ylabel()` functions are used to set the label for the current axes. The `set_xlabel()` and `set_ylabel()` functions are used to set the label for specified axes (the OO way of doing things)"
   ]
  },
  {
   "cell_type": "code",
   "execution_count": null,
   "id": "e243d472-2337-47c6-a994-1074d884e4c7",
   "metadata": {
    "id": "e243d472-2337-47c6-a994-1074d884e4c7"
   },
   "outputs": [],
   "source": [
    "plt.figure()\n",
    "plt.plot([1, 2, 4, 5], [1, 3, 4, 3], '-o')\n",
    "plt.xlabel('X Label')\n",
    "plt.ylabel('Y Label')\n",
    "\n",
    "## OO Style\n",
    "# fig, ax  = plt.subplots()\n",
    "# ax.plot([1, 2, 4, 5], [1, 3, 4, 3], '-o')\n",
    "# ax.set_xlabel('X Label')\n",
    "# ax.set_ylabel('Y Label')"
   ]
  },
  {
   "cell_type": "markdown",
   "id": "8c8f7c54-c71e-4ebb-a17f-8c7e5f05cfa8",
   "metadata": {
    "id": "8c8f7c54-c71e-4ebb-a17f-8c7e5f05cfa8"
   },
   "source": [
    "#### Titles\n",
    "\n",
    "A title describes a particular chart/graph. The titles are placed above the axes in the center, left edge, or right edge. There are two options for titles – you can either set the Figure title or the title of an Axes. The `suptitle()` function sets the title for the current and specified Figure. The `title()` function helps in setting the title for the current and specified axes."
   ]
  },
  {
   "cell_type": "code",
   "execution_count": null,
   "id": "18e65494-e058-4556-9d0f-4b5729b48355",
   "metadata": {
    "id": "18e65494-e058-4556-9d0f-4b5729b48355"
   },
   "outputs": [],
   "source": [
    "fig, ax  = plt.subplots(1, 2)\n",
    "fig.suptitle('Suptitle', fontsize=16, fontweight='bold')\n",
    "ax[0].set_title('Title1', fontsize=10)\n",
    "ax[1].set_title('Title2', fontsize=10)"
   ]
  },
  {
   "cell_type": "markdown",
   "id": "3458321a-a991-4b38-a8f0-55689f1733e7",
   "metadata": {
    "id": "3458321a-a991-4b38-a8f0-55689f1733e7"
   },
   "source": [
    "#### Text\n",
    "There are two options for text – you can either add text to a Figure or text to an Axes. The [`plt.figtext(x, y, text)`](https://matplotlib.org/stable/api/_as_gen/matplotlib.pyplot.figtext.html) add text to a Figure and [`plt.text(x, y, text)`](https://matplotlib.org/stable/api/_as_gen/matplotlib.pyplot.text.html) functions add text at locations x or y for the Axes."
   ]
  },
  {
   "cell_type": "markdown",
   "id": "a30e5a19-de93-4305-b897-6a046975b04f",
   "metadata": {
    "id": "a30e5a19-de93-4305-b897-6a046975b04f"
   },
   "source": [
    "The code below creates a yellow text box with the text \"Text in Data Coords\" on the Axes and text \"Text in Figure\" on the Figure."
   ]
  },
  {
   "cell_type": "code",
   "execution_count": null,
   "id": "089e8e9e-bcbe-4660-870c-b22442ddc79f",
   "metadata": {
    "id": "089e8e9e-bcbe-4660-870c-b22442ddc79f"
   },
   "outputs": [],
   "source": [
    "plt.figure()\n",
    "plt.plot([1, 2, 4, 5], [1, 3, 4, 3], '-o')\n",
    "plt.text(3, 2, 'Text in Data Coords', \\\n",
    "        bbox={'facecolor': 'yellow', 'alpha':0.5, 'pad':4})\n",
    "plt.figtext(0.5, 1, \"Text in Figure\")"
   ]
  },
  {
   "cell_type": "markdown",
   "id": "10b1da64-21a8-4e86-b9ba-9a0d6c1e299c",
   "metadata": {
    "id": "10b1da64-21a8-4e86-b9ba-9a0d6c1e299c"
   },
   "source": [
    "#### Annotation \n",
    "\n",
    "Compared to text that is placed at an arbitrary position on the Axes, annotations are used to annotate some features of the plot. In annotations, there are two locations to consider: the annotated location, xy, and the location of the annotation text `xytext`. It is useful to specify the parameter `arrowprops`, which results in an arrow pointing to the annotated location."
   ]
  },
  {
   "cell_type": "code",
   "execution_count": null,
   "id": "2d9f8959-da5e-4646-8a8b-a1b9ef577ab7",
   "metadata": {
    "id": "2d9f8959-da5e-4646-8a8b-a1b9ef577ab7"
   },
   "outputs": [],
   "source": [
    "plt.figure()\n",
    "plt.plot([1, 2, 4, 5], [1, 3, 4, 3], '-o')\n",
    "plt.annotate('max value', xy=(4,4), \\\n",
    "            xytext=(2,4), \\\n",
    "            arrowprops=dict(facecolor='green', width=3, headwidth=8, shrink=0.05))"
   ]
  },
  {
   "cell_type": "markdown",
   "id": "93e1e263-e1e0-4a9f-b265-68075d649419",
   "metadata": {
    "id": "93e1e263-e1e0-4a9f-b265-68075d649419"
   },
   "source": [
    "#### Legends\n",
    "\n",
    "Legend describes the content of the plot. To add a legend to your Axes, we have to specify the label parameter at the time of plot creation. \n",
    "Calling `plt.legend()` for the current Axes or `Axes.legend()` for a specific Axes will add the legend. \n",
    "The optional `loc` parameter specifies the location of the legend."
   ]
  },
  {
   "cell_type": "code",
   "execution_count": null,
   "id": "699975d4-35fe-4acc-a7e4-dfa57d694025",
   "metadata": {
    "id": "699975d4-35fe-4acc-a7e4-dfa57d694025"
   },
   "outputs": [],
   "source": [
    "plt.plot([1, 2, 3], label='Label 1')\n",
    "plt.plot([2, 4, 8], label='Label 2')\n",
    "plt.legend(loc='upper left')"
   ]
  },
  {
   "cell_type": "markdown",
   "id": "4ed56e10-d911-4fdb-8cdc-d95b171c999f",
   "metadata": {
    "id": "4ed56e10-d911-4fdb-8cdc-d95b171c999f"
   },
   "source": [
    "### Scale\n",
    "\n",
    "In addition to the linear scale, Matplotlib supplies non-linear scales, such as a log-scale. "
   ]
  },
  {
   "cell_type": "code",
   "execution_count": null,
   "id": "13239f68-e4cf-4dce-9cee-f8af2c247c9c",
   "metadata": {
    "id": "13239f68-e4cf-4dce-9cee-f8af2c247c9c"
   },
   "outputs": [],
   "source": [
    "fig, axs = plt.subplots(1, 2, figsize=(8, 4))\n",
    "data = np.random.randn(100)\n",
    "xdata = np.arange(len(data))  # make an ordinal for this\n",
    "data1 = 10**data\n",
    "axs[0].plot(xdata, data)\n",
    "\n",
    "axs[1].set_yscale('log')\n",
    "axs[1].plot(xdata, data1)\n",
    "plt.show()"
   ]
  },
  {
   "cell_type": "markdown",
   "id": "98e1b9a9-87da-45f9-857a-fae383bf65b4",
   "metadata": {
    "id": "98e1b9a9-87da-45f9-857a-fae383bf65b4"
   },
   "source": [
    "### Additional Axis objects\n",
    "\n",
    "Plotting data of different magnitude in one chart may require an additional y-axis. Such an Axis can be created by using `twinx` to add a new Axes with an invisible x-axis and a y-axis positioned at the right (analogously for `twiny`). See Plots with different scales for another example.\n"
   ]
  },
  {
   "cell_type": "code",
   "execution_count": null,
   "id": "afc2dce2-ff94-4ecb-acef-3e9099bc0305",
   "metadata": {
    "id": "afc2dce2-ff94-4ecb-acef-3e9099bc0305"
   },
   "outputs": [],
   "source": [
    "# generate some data \n",
    "t = np.arange(0.0, 5.0, 0.01)\n",
    "s = np.cos(2 * np.pi * t)\n",
    "\n",
    "# do the plot\n",
    "plt.figure(figsize=(7,3))\n",
    "l1 = plt.plot(t, s)\n",
    "plt.twinx()\n",
    "l2 = plt.plot(t, range(len(t)), 'C1')\n",
    "l = l1+l2\n",
    "plt.legend(l, ['Sine (left)', 'Straight (right)'])\n",
    "\n",
    "## OO-style \n",
    "# fig, ax = plt.subplots(figsize=(7, 3), layout='constrained')\n",
    "# l1, = ax.plot(t, s)\n",
    "# ax1 = ax.twinx()\n",
    "# l2, = ax1.plot(t, range(len(t)), 'C1')\n",
    "# ax1.legend([l1, l2], ['Sine (left)', 'Straight (right)'])"
   ]
  },
  {
   "cell_type": "markdown",
   "id": "5c314788-d1e8-4405-a997-6f155f7ae4a8",
   "metadata": {
    "id": "5c314788-d1e8-4405-a997-6f155f7ae4a8",
    "tags": []
   },
   "source": [
    "## Exercise with Line Plot\n",
    "\n",
    "In this activity, we will create a line plot to show stock trends. The aim of this activity is to not just visualize the data but to use labels, a title, and a legend to make the visualization self-explanatory and \"complete.\"\n",
    "\n",
    "Let's look at the following scenario: \n",
    "\n",
    "You are interested in investing in stocks. You downloaded the stock prices for the \"big five\": Amazon, Google, Apple, Facebook, and Microsoft. You want to visualize the closing prices in dollars to identify trends. This dataset is available in the Datasets folder that you had downloaded initially. The following are the steps to perform:\n",
    "\n",
    "1. Import the necessary modules and enable plotting within a Jupyter Notebook.\n",
    "2. Use pandas to read the datasets (GOOGL_data.csv, FB_data.csv, AAPL_data.csv, AMZN_data.csv, and MSFT_data.csv) located in the Datasets folder. The `read_csv()` function reads a .csv file into a DataFrame.\n",
    "3. Use Matplotlib to create a line chart visualizing the closing prices for the past 5 years (whole data sequence) for all five companies. Add labels, titles, and a legend to make the visualization self-explanatory. Use `plt.grid()` to add a grid to your plot. If necessary, adjust the ticks in order to make them readable.\n",
    "\n",
    "\n",
    "Your expected output should look like this: \n",
    "\n",
    "<img src='https://github.com/nyp-sit/agods/blob/main/day3/images/ex1_output.png?raw=1' width=100% />\n"
   ]
  },
  {
   "cell_type": "code",
   "execution_count": null,
   "id": "b255b406-5a84-4ddb-816a-ac0268e4e9e3",
   "metadata": {
    "id": "b255b406-5a84-4ddb-816a-ac0268e4e9e3",
    "tags": []
   },
   "outputs": [],
   "source": [
    "### TODO: code here \n",
    "\n",
    "# Step 1: Import the libraries\n",
    " \n",
    "\n",
    "# Step 2: Read the datasets using pandas\n",
    "\n",
    "\n",
    "# Step 3: Create a line chart (refer to the use of pandas datafame as inputs in the example above)\n",
    "\n"
   ]
  },
  {
   "cell_type": "markdown",
   "id": "9c7abd08-d412-44f9-a60e-9e21e163ab27",
   "metadata": {
    "id": "9c7abd08-d412-44f9-a60e-9e21e163ab27"
   },
   "source": [
    "**Suggested Solution**\n",
    "\n",
    "<details><summary>Click here to see solution</summary>\n",
    "\n",
    "```python\n",
    "import matplotlib.pyplot as plt\n",
    "import pandas as pd \n",
    "\n",
    "# Step 2: Read the datasets\n",
    "google_df = pd.read_csv('datasets/GOOGL_data.csv')\n",
    "apple_df = pd.read_csv('datasets/AAPL_data.csv')\n",
    "microsoft_df = pd.read_csv('datasets/MSFT_data.csv')\n",
    "amazon_df = pd.read_csv('datasets/AMZN_data.csv')\n",
    "facebook_df = pd.read_csv('datasets/FB_data.csv')\n",
    "\n",
    "# Step 3: create a line chart \n",
    "plt.figure(figsize=(16, 8))\n",
    "plt.plot('date', 'close', data=google_df, label='Google')\n",
    "plt.plot('date', 'close', data=facebook_df, label='Facebook')\n",
    "plt.plot('date', 'close', data=apple_df, label='Apple')\n",
    "plt.plot('date', 'close', data=amazon_df, label='Amazon')\n",
    "plt.plot('date', 'close', data=microsoft_df, label='Microsoft')\n",
    "plt.xticks(np.arange(1, 1260, 40), rotation=70)\n",
    "plt.yticks(np.arange(0, 1450, 100))\n",
    "plt.legend()\n",
    "plt.grid()\n",
    "plt.ylabel(\"Closing price in $\")\n",
    "plt.title('Stock Trend')\n",
    "```\n",
    "</details>"
   ]
  }
 ],
 "metadata": {
  "colab": {
   "include_colab_link": true,
   "provenance": [],
   "toc_visible": true
  },
  "kernelspec": {
   "display_name": "Python 3 (ipykernel)",
   "language": "python",
   "name": "python3"
  },
  "language_info": {
   "codemirror_mode": {
    "name": "ipython",
    "version": 3
   },
   "file_extension": ".py",
   "mimetype": "text/x-python",
   "name": "python",
   "nbconvert_exporter": "python",
   "pygments_lexer": "ipython3",
   "version": "3.9.17"
  }
 },
 "nbformat": 4,
 "nbformat_minor": 5
}
