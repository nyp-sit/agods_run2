{
 "cells": [
  {
   "cell_type": "markdown",
   "metadata": {},
   "source": [
    "# Seaborn\n",
    "\n",
    "Seaborn is a library for making statistical graphics in Python. It builds on top of matplotlib and integrates closely with pandas data structures.  \n",
    "\n",
    "It operates on complete dataset and perform the necessary *semantic mapping* and *statistical aggregation* to produce informative plots. Its dataset-oriented, declarative API allows you to focus on what the different elements of your plots mean, rather than on the details of how to draw them."
   ]
  },
  {
   "cell_type": "markdown",
   "metadata": {},
   "source": [
    "Seaborn plotting functions can be either as “axes-level” or “figure-level”. Axes-level functions plot data onto a single matplotlib.pyplot.Axes object while the figure-level functions interface with matplotlib through a seaborn object, usually a FacetGrid that manages the figure, and allows plotting data onto multiple matplotlib.pyplot.Axes (subplots). The single figure-level function offers a unitary interface to its various axes-level functions. The organization looks a bit like this:\n",
    "\n",
    "<img src=\"images/sns_function_overview.png\"/>\n"
   ]
  },
  {
   "cell_type": "code",
   "execution_count": null,
   "metadata": {},
   "outputs": [],
   "source": [
    "import numpy as np\n",
    "import pandas as pd\n",
    "import matplotlib.pyplot as plt\n",
    "import seaborn as sns"
   ]
  },
  {
   "cell_type": "markdown",
   "metadata": {},
   "source": [
    "## A Quick Example\n",
    "\n",
    "The following is an example of plotting using the Seaborn library. "
   ]
  },
  {
   "cell_type": "code",
   "execution_count": null,
   "metadata": {},
   "outputs": [],
   "source": [
    "data = pd.read_csv(\"datasets/salary.csv\", index_col=0)[:1000]\n",
    "data.head()"
   ]
  },
  {
   "cell_type": "code",
   "execution_count": null,
   "metadata": {},
   "outputs": [],
   "source": [
    "sns.set(style=\"ticks\")\n",
    "sns.relplot(x=\"Salary\", y=\"Age\", \n",
    "            hue=\"Education\", style=\"Education\", \n",
    "            col=\"Gender\", \n",
    "            data=data)"
   ]
  },
  {
   "cell_type": "markdown",
   "metadata": {},
   "source": [
    "Notice how we provided only the names of the variables (e.g. *Salary*, *Age*, *Education*, *Gender*), which are the correponding column names in the dataframe) and their roles (e.g *x* or *y-axis* values, *hue*, *col*) in the plot. Behind the scenes, seaborn handled the translation from values in the dataframe to arguments that matplotlib understands. This declarative approach lets you stay focused on the questions that you want to answer, rather than on the details of how to control matplotlib."
   ]
  },
  {
   "cell_type": "markdown",
   "metadata": {},
   "source": [
    "## Controlling Figure Aesthetics\n",
    "\n",
    "In Seaborn, we can use customized themes and a high-level interface for controlling the appearance of Matplotlib figures. "
   ]
  },
  {
   "cell_type": "markdown",
   "metadata": {},
   "source": [
    "Below is the default look of from the plot using Matplotlib. "
   ]
  },
  {
   "cell_type": "code",
   "execution_count": null,
   "metadata": {},
   "outputs": [],
   "source": [
    "plt.figure()\n",
    "x1 = [10, 20, 5, 40, 8]\n",
    "x2 = [30, 43, 9, 7, 20]\n",
    "plt.plot(x1, label='Group A')\n",
    "plt.plot(x2, label='Group B')\n",
    "plt.legend()\n",
    "plt.show()"
   ]
  },
  {
   "cell_type": "markdown",
   "metadata": {},
   "source": [
    "To switch to the Seaborn defaults, simply call the `set_theme()` function:"
   ]
  },
  {
   "cell_type": "code",
   "execution_count": null,
   "metadata": {},
   "outputs": [],
   "source": [
    "sns.set_theme()\n",
    "plt.figure()\n",
    "x1 = [10, 20, 5, 40, 8]\n",
    "x2 = [30, 43, 9, 7, 20]\n",
    "plt.plot(x1, label='Group A')\n",
    "plt.plot(x2, label='Group B')\n",
    "plt.legend()\n",
    "plt.show()"
   ]
  },
  {
   "cell_type": "markdown",
   "metadata": {},
   "source": [
    "## Seaborn Figure Styles\n",
    "\n",
    "To control the plot style, Seaborn provides two methods: `set_style()`and `axes_style()`\n",
    "\n",
    "[set_style()]((https://seaborn.pydata.org/generated/seaborn.set_style.html) sets the aesthetic style of the plots."
   ]
  },
  {
   "cell_type": "code",
   "execution_count": null,
   "metadata": {},
   "outputs": [],
   "source": [
    "sns.set_style(\"whitegrid\")\n",
    "plt.figure()\n",
    "x1 = [10, 20, 5, 40, 8]\n",
    "x2 = [30, 43, 9, 7, 20]\n",
    "plt.plot(x1, label='Group A')\n",
    "plt.plot(x2, label='Group B')\n",
    "plt.legend()\n",
    "plt.show()"
   ]
  },
  {
   "cell_type": "markdown",
   "metadata": {},
   "source": [
    "[axes_style()](https://seaborn.pydata.org/generated/seaborn.axes_style.html) returns a parameter dictionary for the aesthetic style of the plots. The function can be used in a `with` statement to temporarily change the style parameters."
   ]
  },
  {
   "cell_type": "code",
   "execution_count": null,
   "metadata": {},
   "outputs": [],
   "source": [
    "sns.set_theme()\n",
    "plt.figure()\n",
    "x1 = [10, 20, 5, 40, 8]\n",
    "x2 = [30, 43, 9, 7, 20]\n",
    "with sns.axes_style('darkgrid'):\n",
    "    plt.plot(x1, label='Group A')\n",
    "    plt.plot(x2, label='Group B')\n",
    "plt.legend()\n",
    "plt.show()"
   ]
  },
  {
   "cell_type": "markdown",
   "metadata": {},
   "source": [
    "## Removing Axes Spines\n",
    "\n",
    "Sometimes, it might be desirable to remove the top and right axes spines. The despine() function is used to remove the top and right axes spines from the plot:"
   ]
  },
  {
   "cell_type": "code",
   "execution_count": null,
   "metadata": {},
   "outputs": [],
   "source": [
    "sns.set_style(\"white\")\n",
    "plt.figure()\n",
    "x1 = [10, 20, 5, 40, 8]\n",
    "x2 = [30, 43, 9, 7, 20]\n",
    "plt.plot(x1, label='Group A')\n",
    "plt.plot(x2, label='Group B')\n",
    "sns.despine()\n",
    "plt.legend()\n",
    "plt.show()"
   ]
  },
  {
   "cell_type": "markdown",
   "metadata": {},
   "source": [
    "## Controlling the Scale of Plot Elements\n",
    "\n",
    "A separate set of parameters controls the scale of plot elements. This is a handy way to use the same code to create plots that are suited for use in contexts where larger or smaller plots are necessary. To control the context, two functions can be used.\n",
    "\n",
    "[set_context()](https://seaborn.pydata.org/generated/seaborn.set_context.html) sets the plotting context parameters. This does not change the overall style of the plot but affects things such as the size of the labels and lines. The base context is a *notebook*, and the other contexts are *paper*, *talk*, and *poster*—versions of the notebook parameters scaled by 0.8, 1.3, and 1.6, respectively."
   ]
  },
  {
   "cell_type": "code",
   "execution_count": null,
   "metadata": {},
   "outputs": [],
   "source": [
    "sns.set_context(\"poster\")\n",
    "plt.figure()\n",
    "x1 = [10, 20, 5, 40, 8]\n",
    "x2 = [30, 43, 9, 7, 20]\n",
    "plt.plot(x1, label='Group A')\n",
    "plt.plot(x2, label='Group B')\n",
    "plt.legend()\n",
    "plt.show()"
   ]
  },
  {
   "cell_type": "markdown",
   "metadata": {},
   "source": [
    "## Color Palettes\n",
    "\n",
    "There are three general groups of color palettes, namely, categorical, sequential, and diverging, which we will break down in the following sections.                                      "
   ]
  },
  {
   "cell_type": "markdown",
   "metadata": {},
   "source": [
    "## Categorical Color Palettes\n",
    "\n",
    "Categorical palettes (or qualitative color palettes) are best suited for distinguishing categorical data that does not have an inherent ordering. Some examples where it is suitable to use categorical color palettes are line charts showing stock trends for different companies, and a bar chart with subcategories; basically, any time you want to group your data. \n",
    "\n",
    "There are six default themes in Seaborn: deep, muted, bright, pastel, dark, and colorblind"
   ]
  },
  {
   "cell_type": "code",
   "execution_count": null,
   "metadata": {},
   "outputs": [],
   "source": [
    "sns.color_palette(\"pastel\")"
   ]
  },
  {
   "cell_type": "markdown",
   "metadata": {},
   "source": [
    "## Sequential Color Palettes\n",
    "\n",
    "Sequential color palettes are appropriate for sequential data ranges from low to high values, or vice versa. It is recommended to use bright colors for low values and dark ones for high values. Some examples of sequential data are absolute temperature, weight, height, or the number of students in a class."
   ]
  },
  {
   "cell_type": "markdown",
   "metadata": {},
   "source": [
    "One of the sequential color palettes that Seaborn offers is cubehelix palettes. They have a linear increase or decrease in brightness and some variation in hue, meaning that even when converted to black and white, the information is preserved."
   ]
  },
  {
   "cell_type": "code",
   "execution_count": null,
   "metadata": {},
   "outputs": [],
   "source": [
    "sns.palplot(sns.cubehelix_palette())"
   ]
  },
  {
   "cell_type": "code",
   "execution_count": null,
   "metadata": {},
   "outputs": [],
   "source": [
    "sns.palplot(sns.cubehelix_palette(start=0.5, rot=0.5))"
   ]
  },
  {
   "cell_type": "markdown",
   "metadata": {},
   "source": [
    "Creating custom sequential palettes that only produce colors that start at either light or dark desaturated colors and end with a specified color can be accomplished with light_palette() or dark_palette()."
   ]
  },
  {
   "cell_type": "code",
   "execution_count": null,
   "metadata": {},
   "outputs": [],
   "source": [
    "x = sns.light_palette(\"magenta\")\n",
    "print(x)\n",
    "sns.palplot(x)"
   ]
  },
  {
   "cell_type": "code",
   "execution_count": null,
   "metadata": {},
   "outputs": [],
   "source": [
    "sns.dark_palette(\"magenta\")"
   ]
  },
  {
   "cell_type": "markdown",
   "metadata": {},
   "source": [
    "By default, creating a color palette only returns a list of colors. If you want to use it as a colormap object, for example, in combination with a heatmap, set the as_cmap=True argument, as demonstrated in the following example:"
   ]
  },
  {
   "cell_type": "code",
   "execution_count": null,
   "metadata": {},
   "outputs": [],
   "source": [
    "x = np.arange(25).reshape(5, 5)\n",
    "ax = sns.heatmap(x, cmap=sns.cubehelix_palette(as_cmap=True))"
   ]
  },
  {
   "cell_type": "markdown",
   "metadata": {},
   "source": [
    "## Diverging Color Palettes\n",
    "\n",
    "Diverging color palettes are used for data that consists of a well-defined midpoint. An emphasis is placed on both high and low values. For example, if you are plotting any population *changes* for a particular region from some baseline population, it is best to use diverging colormaps to show the relative increase and decrease in the population. \n",
    "\n",
    "Seaborn provides few diverging palettes, e.g. `vlag`, `icefire`.  Matplotlib also provides a few, e.g. `Spectral` and `coolwarm`,"
   ]
  },
  {
   "cell_type": "code",
   "execution_count": null,
   "metadata": {},
   "outputs": [],
   "source": [
    "sns.color_palette('coolwarm', as_cmap=True)"
   ]
  },
  {
   "cell_type": "markdown",
   "metadata": {},
   "source": [
    "You can also specify your own custom colormap for diverging data. This function makes diverging palettes using the husl color system. You pass it two hues (in degrees) and, optionally, the lightness and saturation values for the extremes.\n",
    "\n",
    "You can refer to the hue wheel used here: \n",
    "\n",
    "<img src=\"images/color_wheel.png\" width=60% />"
   ]
  },
  {
   "cell_type": "code",
   "execution_count": null,
   "metadata": {},
   "outputs": [],
   "source": [
    "sns.diverging_palette(120, 300, s=60, as_cmap=True)"
   ]
  },
  {
   "cell_type": "markdown",
   "metadata": {
    "tags": []
   },
   "source": [
    "## Heat Maps\n",
    "\n",
    "Let's see how we can generate a heatmap using Seaborn. We will learn how to choose an appropriate color palette for the given data. \n",
    "\n",
    "You are asked to visualize the surface temperature change for the Northern Hemisphere for past years. Data from the GISS Surface Temperature Analysis is used, which contains estimates of global surface temperature change (in degree Celsius) for every month. The dataset contains temperature anomalies for every month from 1880 to the present. Temperature anomalies indicate how much warmer or colder it is than normal. For the GISS analysis, normal means the average over the 30-year period 1951-1980.\n"
   ]
  },
  {
   "cell_type": "code",
   "execution_count": null,
   "metadata": {},
   "outputs": [],
   "source": [
    "%matplotlib inline\n",
    "import numpy as np\n",
    "import pandas as pd\n",
    "import matplotlib.pyplot as plt\n",
    "import seaborn as sns\n",
    "sns.set()"
   ]
  },
  {
   "cell_type": "code",
   "execution_count": null,
   "metadata": {},
   "outputs": [],
   "source": [
    "data = pd.read_csv('datasets/northern_surface_temperature.csv', index_col=['Year'])\n",
    "data.head()"
   ]
  },
  {
   "cell_type": "markdown",
   "metadata": {},
   "source": [
    "Since we want to visualize the temperature changes over the years, it makes sense to have the years on the x-axis, and the months on the y-axis.  We can do this easily by doing a transpose on the dataframe."
   ]
  },
  {
   "cell_type": "code",
   "execution_count": null,
   "metadata": {},
   "outputs": [],
   "source": [
    "data = data.transpose()\n",
    "data.head(10)"
   ]
  },
  {
   "cell_type": "code",
   "execution_count": null,
   "metadata": {},
   "outputs": [],
   "source": [
    "data.iloc[:, ::5].head(20)"
   ]
  },
  {
   "cell_type": "markdown",
   "metadata": {},
   "source": [
    "Let's create a custom-diverging palette that diverges to blue (240 degrees on the hue wheel) for low values and to red (15 degrees on the hue wheel) for high values. Set the saturation as s=99. Make sure that the diverging_palette() function returns a colormap by setting as_cmap=True:"
   ]
  },
  {
   "cell_type": "code",
   "execution_count": null,
   "metadata": {},
   "outputs": [],
   "source": [
    "heat_colormap = sns.diverging_palette(240, 15, s=99, as_cmap=True)"
   ]
  },
  {
   "cell_type": "markdown",
   "metadata": {},
   "source": [
    "We will plot the heatmap for every 5 years. To ensure that the neutral color corresponds to no temperature change (the value is zero), set center=0:"
   ]
  },
  {
   "cell_type": "code",
   "execution_count": null,
   "metadata": {},
   "outputs": [],
   "source": [
    "plt.figure(dpi=200)\n",
    "\n",
    "sns.heatmap(data.iloc[:, ::5], cmap=heat_colormap, center=0)\n",
    "plt.title(\"Temperature Changes from 1880 to 2015 (base period 1951-1980)\")\n",
    "plt.savefig('temperature_change.png', dpi=300, bbox_inches='tight')"
   ]
  },
  {
   "cell_type": "markdown",
   "metadata": {},
   "source": [
    "### Exercise:\n",
    "\n",
    "In this activity, we will use a heatmap to find patterns in flight passenger data. The goal of this activity is to apply your knowledge about color palettes to choose a suitable color palette for this data.\n",
    "\n",
    "1. Use pandas to read the flight_details.csv dataset located in the datasets folder. The given dataset contains the monthly figures for flight passengers for the years 1949 to 1960. \n",
    "2. Transform the data into a form suitable for display on heatmap.\n",
    "2. Use a heatmap to visualize the given data.\n",
    "3. Use your own appropriate colormap. Make sure that the lowest value is the brightest, and the highest the darkest, color. After executing the preceding steps, the expected output should be as follows:\n",
    "\n",
    "<img src=\"images/heatmap_ex.png\" width=60% />\n"
   ]
  },
  {
   "cell_type": "code",
   "execution_count": null,
   "metadata": {},
   "outputs": [],
   "source": [
    "# Step 0: Import packages \n",
    "\n",
    "import pandas as pd\n",
    "import seaborn as sns \n",
    "import matplotlib.pyplot as plt \n",
    "import numpy as np\n",
    "\n",
    "# Step 1: Use pandas to read the flight_details.csv dataset located in the datasets folder. \n",
    "\n",
    "\n",
    "\n",
    "# Step 2: Transform the data into a form suitable for display on heatmap (hint: using pd.pivot())\n",
    "\n",
    "\n",
    "\n",
    "# Step 2a: Sort the index of the transformed dataframe using the Dataframe.reindex()\n",
    "\n",
    "months = ['January', 'February', 'March', 'April', 'May', 'June',\n",
    "                     'July', 'August', 'September', 'October', 'November', 'December']\n",
    "\n",
    "\n",
    "\n",
    "## Alternatively we can use sort_index with mapping \n",
    "\n",
    "# def remap(x):    # return the index position of any given month x\n",
    "#     months = ['January', 'February', 'March', 'April', 'May', 'June',\n",
    "#                      'July', 'August', 'September', 'October', 'November', 'December']\n",
    "#     return [ months.index(e) for e in x ]\n",
    "# data_wide.sort_index(key=remap)\n",
    "\n",
    "\n",
    "# Step 3: Use a heatmap to visualize the given data. Use the appropriate colormap. \n",
    "#         Make sure that the lowest value is the brightest, and the highest the darkest color\n",
    "#         \n",
    "\n",
    "\n"
   ]
  },
  {
   "cell_type": "markdown",
   "metadata": {},
   "source": [
    "<details><summary>Click here for solution</summary>\n",
    "\n",
    "```python\n",
    "\n",
    "# Step 0: Import packages \n",
    "\n",
    "import pandas as pd\n",
    "import seaborn as sns \n",
    "import matplotlib.pyplot as plt \n",
    "import numpy as np\n",
    "\n",
    "# Step 1: Use pandas to read the flight_details.csv dataset located in the datasets folder. \n",
    "data = pd.read_csv('datasets/flight_details.csv')\n",
    "print(data.info())\n",
    "\n",
    "# Step 2: Transform the data into a form suitable for display on heatmap (hint: using pd.pivot())\n",
    "data_wide = pd.pivot(data, index='Months', columns='Years', values='Passengers')\n",
    "print(data_wide)\n",
    "\n",
    "# Step 2a: Sort the index of the transformed dataframe using the Dataframe.reindex()\n",
    "months = ['January', 'February', 'March', 'April', 'May', 'June',\n",
    "                     'July', 'August', 'September', 'October', 'November', 'December']\n",
    "\n",
    "data_wide_sorted = data_wide.reindex(months)\n",
    "\n",
    "## Alternatively we can use sort_index with mapping \n",
    "\n",
    "# def remap(x):    # return the index position of any given month x\n",
    "#     months = ['January', 'February', 'March', 'April', 'May', 'June',\n",
    "#                      'July', 'August', 'September', 'October', 'November', 'December']\n",
    "#     return [ months.index(e) for e in x ]\n",
    "# data_wide.sort_index(key=remap)\n",
    "\n",
    "\n",
    "# Step 3: Use a heatmap to visualize the given data. Use the appropriate colormap. \n",
    "#         Make sure that the lowest value is the brightest, and the highest the darkest color\n",
    "#         \n",
    "\n",
    "plt.figure(dpi=100)\n",
    "color_map = sns.cubehelix_palette(rot=-0.7,as_cmap=True)\n",
    "sns.heatmap(data_wide_sorted, cmap=color_map)\n",
    "plt.title(\"Flight Passengers from 1949 to 1960\")\n",
    "plt.show()\n",
    "\n",
    "\n",
    "```\n",
    "    \n",
    "</details>"
   ]
  },
  {
   "cell_type": "code",
   "execution_count": null,
   "metadata": {},
   "outputs": [],
   "source": []
  }
 ],
 "metadata": {
  "kernelspec": {
   "display_name": "Python 3 (ipykernel)",
   "language": "python",
   "name": "python3"
  },
  "language_info": {
   "codemirror_mode": {
    "name": "ipython",
    "version": 3
   },
   "file_extension": ".py",
   "mimetype": "text/x-python",
   "name": "python",
   "nbconvert_exporter": "python",
   "pygments_lexer": "ipython3",
   "version": "3.9.17"
  }
 },
 "nbformat": 4,
 "nbformat_minor": 4
}
