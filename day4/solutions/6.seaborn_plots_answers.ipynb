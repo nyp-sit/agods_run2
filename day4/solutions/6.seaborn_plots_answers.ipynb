{
 "cells": [
  {
   "cell_type": "markdown",
   "metadata": {
    "id": "a14028cd-85ae-493d-af64-f35112d0c53d"
   },
   "source": [
    "<img src=\"https://nyp-aicourse.s3.ap-southeast-1.amazonaws.com/agods/nyp_ago_logo.png\" width='300'/>\n",
    "\n",
    "Welcome to the lab! Before we get started here are a few pointers on using this notebooks.\n",
    "\n",
    "1. The notebook is composed of cells; cells can contain code which you can run, or they can hold text and/or images which are there for you to read.\n",
    "\n",
    "2. You can execute code cells by clicking the ```Run``` icon in the menu, or via the following keyboard shortcuts ```Shift-Enter``` (run and advance) or ```Ctrl-Enter``` (run and stay in the current cell).\n",
    "\n",
    "3. To interrupt cell execution, click the ```Stop``` button on the toolbar or navigate to the ```Kernel``` menu, and select ```Interrupt ```.\n",
    "    "
   ]
  },
  {
   "cell_type": "markdown",
   "metadata": {},
   "source": [
    "# Seaborn Plots\n",
    "\n",
    "We will be covering a few common seaborn plots  for visualizing relationship (between two or more variables) and distribution. "
   ]
  },
  {
   "cell_type": "markdown",
   "metadata": {},
   "source": [
    "## Visualizing Relationship"
   ]
  },
  {
   "cell_type": "markdown",
   "metadata": {},
   "source": [
    "### Scatter Plot and Line Plot \n",
    "Seaborn provides a very easy-to-use function `relplot()` for visualizing statistical relationship between variables. `relplot()` combines Facetgrid with one of two axes-level functions: `scatterplot()` and `lineplot()`.\n",
    "\n",
    "The default plot is scatterplot. "
   ]
  },
  {
   "cell_type": "code",
   "execution_count": null,
   "metadata": {},
   "outputs": [],
   "source": [
    "import numpy as np\n",
    "import pandas as pd\n",
    "import matplotlib.pyplot as plt\n",
    "import seaborn as sns\n",
    "sns.set_theme(style=\"darkgrid\")\n",
    "\n",
    "tips = sns.load_dataset(\"tips\")\n",
    "sns.relplot(data=tips, x=\"total_bill\", y=\"tip\", col=\"smoker\")\n",
    "plt.show()"
   ]
  },
  {
   "cell_type": "markdown",
   "metadata": {},
   "source": [
    "More complex datasets will have multiple measurements for the same value of the x variable. The default behavior in seaborn is to aggregate the multiple measurements at each x value by plotting the mean and the 95% confidence interval around the mean:\n",
    "\n"
   ]
  },
  {
   "cell_type": "code",
   "execution_count": null,
   "metadata": {},
   "outputs": [],
   "source": [
    "%matplotlib inline \n",
    "\n",
    "fmri = sns.load_dataset(\"fmri\")\n",
    "fmri.head()\n",
    "fmri = sns.load_dataset(\"fmri\")\n",
    "sns.relplot(data=fmri, x=\"timepoint\", y=\"signal\", kind=\"line\")"
   ]
  },
  {
   "cell_type": "markdown",
   "metadata": {},
   "source": [
    "### Heatmap \n",
    "\n",
    "Heatmaps visualise data through variations in colouring. Heatmaps are useful for cross-examining multivariate data, through placing variables in the rows and columns and colouring the cells within the table. Heatmaps are good for showing variance across multiple variables, revealing any patterns, displaying whether any variables are similar to each other, and for detecting if any correlations exist."
   ]
  },
  {
   "cell_type": "markdown",
   "metadata": {
    "tags": []
   },
   "source": [
    "Let's see how we can generate a heatmap using Seaborn. We will learn how to choose an appropriate color palette for the given data. \n",
    "\n",
    "You are asked to visualize the surface temperature change for the Northern Hemisphere for past years. Data from the GISS Surface Temperature Analysis is used, which contains estimates of global surface temperature change (in degree Celsius) for every month. The dataset contains temperature anomalies for every month from 1880 to the present. Temperature anomalies indicate how much warmer or colder it is than normal. For the GISS analysis, normal means the average over the 30-year period 1951-1980.\n"
   ]
  },
  {
   "cell_type": "code",
   "execution_count": null,
   "metadata": {},
   "outputs": [],
   "source": [
    "import numpy as np\n",
    "import pandas as pd\n",
    "import matplotlib.pyplot as plt\n",
    "import seaborn as sns\n",
    "sns.set_theme()"
   ]
  },
  {
   "cell_type": "code",
   "execution_count": null,
   "metadata": {},
   "outputs": [],
   "source": [
    "data = pd.read_csv('datasets/northern_surface_temperature.csv', index_col=['Year'])\n",
    "data.head()"
   ]
  },
  {
   "cell_type": "markdown",
   "metadata": {},
   "source": [
    "Since we want to visualize the temperature changes over the years, it makes sense to have the years on the x-axis, and the months on the y-axis.  We can do this easily by doing a transpose on the dataframe."
   ]
  },
  {
   "cell_type": "code",
   "execution_count": null,
   "metadata": {},
   "outputs": [],
   "source": [
    "data = data.transpose()\n",
    "data.head(10)"
   ]
  },
  {
   "cell_type": "markdown",
   "metadata": {},
   "source": [
    "Let's create a custom-diverging palette that diverges to blue (240 degrees on the hue wheel) for low values and to red (15 degrees on the hue wheel) for high values. Set the saturation as s=99. Make sure that the `diverging_palette()` function returns a colormap by setting as_cmap=True:"
   ]
  },
  {
   "cell_type": "code",
   "execution_count": null,
   "metadata": {},
   "outputs": [],
   "source": [
    "heat_colormap = sns.diverging_palette(240, 15, s=99, as_cmap=True)\n",
    "heat_colormap"
   ]
  },
  {
   "cell_type": "markdown",
   "metadata": {},
   "source": [
    "We will plot the heatmap for every 5 years. To ensure that the neutral color corresponds to no temperature change (the value is zero), set center=0:"
   ]
  },
  {
   "cell_type": "code",
   "execution_count": null,
   "metadata": {},
   "outputs": [],
   "source": [
    "plt.figure()\n",
    "\n",
    "sns.heatmap(data.iloc[:, ::5], cmap=heat_colormap, center=0)\n",
    "plt.title(\"Temperature Changes from 1880 to 2015 (base period 1951-1980)\")\n",
    "plt.savefig('temperature_change.png', dpi=300, bbox_inches='tight')"
   ]
  },
  {
   "cell_type": "markdown",
   "metadata": {},
   "source": [
    "### Exercise\n",
    "\n",
    "In this activity, we will use a heatmap to find patterns in flight passenger data. The goal of this activity is to apply your knowledge about color palettes to choose a suitable color palette for this data.\n",
    "\n",
    "1. Use pandas to read the flight_details.csv dataset located in the datasets folder. The given dataset contains the monthly figures for flight passengers for the years 1949 to 1960. \n",
    "2. Transform the data into a form suitable for display on heatmap.\n",
    "2. Use a heatmap to visualize the given data.\n",
    "3. Use your own appropriate colormap. Make sure that the lowest value is the brightest, and the highest the darkest, color. After executing the preceding steps, the expected output should be as follows:\n",
    "\n",
    "<img src=\"images/heatmap_ex.png\" width=60% />\n"
   ]
  },
  {
   "cell_type": "markdown",
   "metadata": {},
   "source": [
    "<details><summary>Click here for solution</summary>\n",
    "\n",
    "<br/>\n",
    "    \n",
    "```python\n",
    "# Step 1: Import necessary packages and read the dataset using pandas\n",
    "import numpy as np\n",
    "import pandas as pd\n",
    "import matplotlib.pyplot as plt\n",
    "import seaborn as sns\n",
    "sns.set_theme()\n",
    "\n",
    "data = pd.read_csv(\"datasets/flight_details.csv\")\n",
    "print(data.head(20))\n",
    "\n",
    "# Step 2: Transform the data, so that years are on the x-axis and months are on the y-axis (wide-form data). \n",
    "data = data.pivot(index=\"Months\", columns=\"Years\", values=\"Passengers\")\n",
    "print(data.head(20))\n",
    "\n",
    "# Step 3: Our index column (months) are currently not in sorted order, so you should re-order them.  One way is to use Dataframe.reindex(new_index)\n",
    "new_index = ['January', 'February', 'March', 'April', 'May', 'June',\n",
    "             'July', 'August', 'September', 'October', 'November', 'December']\n",
    "data = data.reindex(new_index)\n",
    "\n",
    "## alternatively we can use a more generic method to sort the index using Dataframe.sort_index() \n",
    "# def remap(x):\n",
    "#     months = ['January', 'February', 'March', 'April', 'May', 'June',\n",
    "#                      'July', 'August', 'September', 'October', 'November', 'December']   \n",
    "#     return [ months.index(e) for e in x ]\n",
    "# data = data.sort_index(axis=0, ascending=True, key=remap)\n",
    "\n",
    "# Step 4: Create an appropriate color map. Make sure that the lowest value is the brightest and the highest the darkest color.\n",
    "color_map = sns.cubehelix_palette(rot=-0.7, as_cmap=True)\n",
    "\n",
    "# Step 5: Create a heatmap with the chosen colormap and add appropriate title\n",
    "plt.figure()\n",
    "sns.heatmap(data, cmap=sns.cubehelix_palette(rot=-0.7, as_cmap=True)) # you can use any sequential color palette\n",
    "plt.title(\"Flight Passengers from 1949 to 1960\")\n",
    "plt.show()\n",
    "```\n",
    "</details>"
   ]
  },
  {
   "cell_type": "code",
   "execution_count": null,
   "metadata": {},
   "outputs": [],
   "source": [
    "# Step 1: Import necessary packages and read the dataset using pandas\n",
    "\n",
    "\n",
    "# Step 2: Transform the data, so that years are on the x-axis and months are on the y-axis (wide-form data). \n",
    "\n",
    "\n",
    "\n",
    "# Step 3: Our index column (months) are currently not in sorted order, so you should re-order them.  One way is to use Dataframe.reindex(new_index)\n",
    "\n",
    "\n",
    "\n",
    "# Step 4: Create an appropriate color map. Make sure that the lowest value is the brightest and the highest the darkest color.\n",
    "\n",
    "\n",
    "# Step 5: Create a heatmap with the chosen colormap and add appropriate title\n",
    "\n",
    "\n"
   ]
  },
  {
   "cell_type": "markdown",
   "metadata": {},
   "source": [
    "### Bar Plot \n",
    "\n",
    "Seaborn offers a very convenient way to create various bar plots. For example, creating bar plots with subgroups is quite easy in Seaborn.  Seaborn can represent estimates of central tendency with the height of each bar, while uncertainty is indicated by error bars at the top of the bar (default is 95% confidence interval)."
   ]
  },
  {
   "cell_type": "code",
   "execution_count": null,
   "metadata": {},
   "outputs": [],
   "source": [
    "import pandas as pd\n",
    "import seaborn as sns\n",
    "import matplotlib.pyplot as plt"
   ]
  },
  {
   "cell_type": "code",
   "execution_count": null,
   "metadata": {},
   "outputs": [],
   "source": [
    "data = pd.read_csv(\"datasets/salary.csv\", index_col=0)\n",
    "data.head(10)"
   ]
  },
  {
   "cell_type": "code",
   "execution_count": null,
   "metadata": {},
   "outputs": [],
   "source": [
    "sns.set_theme(style=\"whitegrid\")\n",
    "plt.figure()\n",
    "sns.barplot(x=\"Education\", y=\"Salary\", hue=\"District\", data=data)\n",
    "plt.show()"
   ]
  },
  {
   "cell_type": "code",
   "execution_count": null,
   "metadata": {},
   "outputs": [],
   "source": [
    "sns.set_theme(style=\"whitegrid\")\n",
    "plt.figure()\n",
    "sns.catplot(x=\"Education\", y=\"Salary\", hue=\"District\", kind='bar',data=data)\n",
    "plt.show()"
   ]
  },
  {
   "cell_type": "markdown",
   "metadata": {},
   "source": [
    "### Regression Plots\n",
    "\n",
    "Regression is a technique in which we estimate the relationship between a dependent variable (mostly plotted along the Y – axis) and an independent variable (mostly plotted along the X – axis). Given a dataset, we can assign independent and dependent variables and then use various regression methods to find out the relation between these variables. Here, we will only cover linear regression; however, Seaborn provides a wider range of regression functionality if needed.\n",
    "\n",
    "The `regplot()` function offered by Seaborn helps to visualize linear relationships, determined through linear regression. The following code snippet gives a simple example:"
   ]
  },
  {
   "cell_type": "code",
   "execution_count": null,
   "metadata": {},
   "outputs": [],
   "source": [
    "sns.set_theme()\n",
    "x = np.arange(100)\n",
    "y = x + np.random.normal(0, 5, size=100) # normal distribution with mean 0 and a standard deviation of 5\n",
    "sns.regplot(x=x, y=y)\n",
    "plt.show()"
   ]
  },
  {
   "cell_type": "markdown",
   "metadata": {},
   "source": [
    "## Visualizing Distribution"
   ]
  },
  {
   "cell_type": "markdown",
   "metadata": {},
   "source": [
    "### Kernel Density Estimation\n",
    "\n",
    "It is often useful to visualize how variables of a dataset are distributed. Seaborn offers handy functions to examine univariate and bivariate distributions. One possible way to look at a univariate distribution in Seaborn is by using the displot() function. This will draw a histogram by default, and we can fit a kernel density estimate (KDE), by setting `kde` parameter to True, as illustrated in the following example:"
   ]
  },
  {
   "cell_type": "code",
   "execution_count": null,
   "metadata": {},
   "outputs": [],
   "source": [
    "sns.set_style('white')\n",
    "sns.displot(data.loc[:, 'Age'], kde=True)\n",
    "plt.xlabel('Age')\n",
    "plt.ylabel('Density')\n",
    "plt.show()"
   ]
  },
  {
   "cell_type": "markdown",
   "metadata": {},
   "source": [
    "To just visualize the KDE, Seaborn provides the `kdeplot()` function. Compare to a histogram, KDE plot is less cluttered and more interpretable, especially when drawing multiple distributions. But it has the potential to introduce distortions if the underlying distribution is bounded or not smooth. Like a histogram, the quality of the representation also depends on the selection of good smoothing parameters. controlled by the bandwidth parameter `bw_adjust`."
   ]
  },
  {
   "cell_type": "code",
   "execution_count": null,
   "metadata": {},
   "outputs": [],
   "source": [
    "fig, axes = plt.subplots(2, 2, sharex=True, sharey=True)\n",
    "bw_params = [0.2, 0.5, 1.0, 1.5]\n",
    "\n",
    "for i, ax in enumerate(axes.ravel()):\n",
    "    sns.kdeplot(data.loc[:, 'Age'], fill=True, bw_adjust = bw_params[i], ax=ax)\n",
    "plt.xlabel('Age')\n",
    "plt.ylabel('Density')\n",
    "plt.show()"
   ]
  },
  {
   "cell_type": "markdown",
   "metadata": {},
   "source": [
    "### Joint Plot\n",
    "\n",
    "For visualizing bivariate distribution, we can use`jointplot()` function, which creates a multi-panel figure that shows both the joint relationship between both variables and the corresponding marginal distributions. A scatter plot shows each observation as points on the x and y axes. Additionally, a histogram for each variable is shown."
   ]
  },
  {
   "cell_type": "code",
   "execution_count": null,
   "metadata": {},
   "outputs": [],
   "source": [
    "data = pd.read_csv('datasets/age_salary_hours.csv')"
   ]
  },
  {
   "cell_type": "code",
   "execution_count": null,
   "metadata": {},
   "outputs": [],
   "source": [
    "sns.set_theme(style=\"white\")\n",
    "sns.jointplot(x=\"Annual Salary\", y=\"Age\", data=data)\n",
    "plt.show()"
   ]
  },
  {
   "cell_type": "markdown",
   "metadata": {},
   "source": [
    "### Pairpolot"
   ]
  },
  {
   "cell_type": "markdown",
   "metadata": {},
   "source": [
    "For visualizing multiple pairwise relationships in a dataset, Seaborn offers the`pairplot()` function. This function creates a matrix where off-diagonal elements visualize the relationship between each pair of variables and the diagonal elements show the marginal distributions.\n",
    "\n",
    "A pair plot, also called a *correlogram*, is shown in the following diagram. Scatter plots are shown for all variable pairs on the off-diagonal, while KDEs are shown on the diagonal. Groups are highlighted by different colors:"
   ]
  },
  {
   "cell_type": "code",
   "execution_count": null,
   "metadata": {},
   "outputs": [],
   "source": [
    "data = pd.read_csv('datasets/age_salary_hours.csv')"
   ]
  },
  {
   "cell_type": "code",
   "execution_count": null,
   "metadata": {},
   "outputs": [],
   "source": [
    "sns.set_theme(style=\"ticks\", color_codes=True)\n",
    "g = sns.pairplot(data, hue='Education')\n",
    "plt.show()"
   ]
  },
  {
   "cell_type": "markdown",
   "metadata": {},
   "source": [
    "### Violin Plots\n",
    "\n",
    "A different approach to visualizing statistical measures is by using violin plots. They combine box plots with the kernel density estimation procedure that we described previously. It provides a richer description of the variable's distribution. Additionally, the quartile and whisker values from the box plot are shown inside the violin.\n",
    "\n",
    "`seaborn.violinplot(data=None, *, x=None, y=None, hue=None, split, cut, ...)`\n",
    "\n",
    "Important arguments: \n",
    "\n",
    "- `data`: Dataset for plotting. If x and y are absent, this is interpreted as wide-form. Otherwise it is expected to be long-form\n",
    "- `x, y, hue`: names of variables in data, inputs for plotting long-form data\n",
    "- `split`: When using hue nesting with a variable that takes two levels, setting split to True will draw half of a violin for each level. This can make it easier to directly compare the distributions.\n",
    "- `cut`: Set to 0 to limit the violin range within the range of the observed data"
   ]
  },
  {
   "cell_type": "code",
   "execution_count": null,
   "metadata": {},
   "outputs": [],
   "source": [
    "data = pd.read_csv(\"datasets/salary.csv\")\n",
    "data.head(10)"
   ]
  },
  {
   "cell_type": "code",
   "execution_count": null,
   "metadata": {},
   "outputs": [],
   "source": [
    "sns.set_theme(style=\"whitegrid\")  \n",
    "sns.violinplot(x='Education', y='Salary', hue='Gender', data=data, split=False, cut=0)\n",
    "plt.show()"
   ]
  },
  {
   "cell_type": "markdown",
   "metadata": {},
   "source": [
    "### Exercise \n",
    "\n",
    "In this exercise, we will compare the IQ scores among four different test groups by using the violin plot that's provided by the Seaborn library. The following steps will help you to complete this activity:\n",
    "\n",
    "1. Use pandas to read the iq_scores.csv dataset located in the datasets folder.\n",
    "2. Transform the data into appropriate form (e.g. long form), e.g. \n",
    "\n",
    "||Group|IQ Score|\n",
    "|---|---|---|\n",
    "|0|Group A|118|\n",
    "|1|Group A|103|\n",
    "|2|Group A|125|\n",
    "|3|Group B|126|\n",
    "|4|Group B|89|\n",
    "\n",
    "3. Create a box plot for the IQ scores of the different test groups using Seaborn's violinplot function.\n",
    "4. Use the whitegrid style, set the context to talk, and remove all axes spines, except the one on the bottom. Add a title to the plot.\n",
    "\n",
    "After executing the preceding steps, the final output should appear as follows:\n",
    "\n",
    "<img src=\"images/violin_plot_exercise.png\" width=60% />"
   ]
  },
  {
   "cell_type": "markdown",
   "metadata": {},
   "source": [
    "<details><summary>Click here for solution</summary>\n",
    "\n",
    "```python\n",
    "\n",
    "# Step 1: Import packages and read the CSV file \n",
    "import pandas as pd\n",
    "import seaborn as sns \n",
    "import matplotlib.pyplot as plt \n",
    "\n",
    "data = pd.read_csv(\"datasets/iq_scores.csv\")\n",
    "data.head()\n",
    "\n",
    "# Step 2: Rename the column names as \"Group A\", \"Group B\", and so on for readability.  Use Dataframe.rename() \n",
    "\n",
    "dict = {\n",
    "    \"group_a\": \"Group A\",\n",
    "    \"group_b\": \"Group B\",\n",
    "    \"group_c\": \"Group C\",\n",
    "    \"group_d\": \"Group D\"\n",
    "}\n",
    "data.rename(columns=dict, inplace=True)\n",
    "\n",
    "# Step 3: Convert the data into long form, \n",
    "\n",
    "data_long = pd.melt(data, value_vars = ['Group A', 'Group B', 'Group C', 'Group D'], var_name = 'Group', value_name = 'IQ Score')\n",
    "\n",
    "## Alternatively, we can do the following:\n",
    "# group_a = data[data.columns[0]].tolist()\n",
    "# group_b = data[data.columns[1]].tolist()\n",
    "# group_c = data[data.columns[2]].tolist()\n",
    "# group_d = data[data.columns[3]].tolist()\n",
    "\n",
    "# data2 = pd.DataFrame({'Groups': ['Group A'] * len(group_a) + ['Group B'] * len(group_b) + ['Group C'] * len(group_c) + ['Group D'] * len(group_d),\n",
    "#                      'IQ score': group_a + group_b + group_c + group_d})\n",
    "\n",
    "# Step 4: Plot the violin plot \n",
    "\n",
    "sns.set_theme(style=\"whitegrid\")\n",
    "sns.set_context(\"talk\")\n",
    "sns.violinplot(data=data_long, x=\"Group\", y=\"IQ Score\")\n",
    "sns.despine(left=True, right=True, top=True)\n",
    "plt.title('IQ scores for different test groups')\n",
    "plt.show()\n",
    "\n",
    "```\n",
    "\n",
    "</details>"
   ]
  },
  {
   "cell_type": "code",
   "execution_count": null,
   "metadata": {
    "tags": []
   },
   "outputs": [],
   "source": [
    "# Step 1: Import packages and read the CSV file \n",
    "\n",
    "\n",
    "\n",
    "# Step 2: Rename the column names as \"Group A\", \"Group B\", and so on for readability.  Use Dataframe.rename() \n",
    "\n",
    "\n",
    "\n",
    "# Step 3: Convert the data into long form, \n",
    "\n",
    "\n",
    "\n",
    "# Step 4: Plot the violin plot \n",
    "\n"
   ]
  },
  {
   "cell_type": "markdown",
   "metadata": {},
   "source": [
    "## FacetGrid\n",
    "\n",
    "The FacetGrid is useful for visualizing a certain plot for multiple variables separately. A FacetGrid can be drawn with up to three dimensions: row, col, and hue. The first two have the obvious relationship with the rows and columns of an array. The hue is the third dimension and is shown in different colors. The FacetGrid class has to be initialized with a DataFrame, and the names of the variables that will form the row, column, or hue dimensions of the grid."
   ]
  },
  {
   "cell_type": "code",
   "execution_count": null,
   "metadata": {},
   "outputs": [],
   "source": [
    "data = pd.read_csv(\"datasets/salary.csv\")[:1000]\n",
    "data.head()"
   ]
  },
  {
   "cell_type": "code",
   "execution_count": null,
   "metadata": {},
   "outputs": [],
   "source": [
    "sns.set_theme()\n",
    "plt.figure(figsize=(12, 6), constrained_layout=True)\n",
    "data = pd.read_csv(\"datasets/salary.csv\")[:1000]\n",
    "g = sns.FacetGrid(data, col='District', row='Gender')\n",
    "g.map(plt.scatter, 'Salary', 'Age')\n",
    "plt.subplots_adjust(wspace=0.5)\n",
    "plt.show()"
   ]
  },
  {
   "cell_type": "markdown",
   "metadata": {},
   "source": [
    "### Exercise (Optional)\n",
    "\n",
    "In this activity, we will generate a FacetGrid plot using the Seaborn library. We will visualize the total number of subscribers and the total number of views for the top 30 YouTube channels (as of January 2020) in the music category by using the `FacetGrid()` function.\n",
    "\n",
    "Visualize the given data using a FacetGrid with two columns. The first column should show the number of subscribers for each YouTube channel, whereas the second column should show the number of views. The goal of this activity is to get some practice working with FacetGrids. The following are the steps to implement this activity:\n",
    "\n",
    "1. Use pandas to read the `YouTube.csv` dataset located in the Datasets folder.\n",
    "2. Convert the dataframe into appropriate long form format.\n",
    "4. Create a FacetGrid with two columns to visualize the data.\n",
    "5. After executing the preceding steps, the final output should appear as follows:\n",
    "\n",
    "<img src=\"images/facetgrid_exercise.png\" />"
   ]
  },
  {
   "cell_type": "markdown",
   "metadata": {},
   "source": [
    "<details><summary>Click here for solution</summary>\n",
    "    \n",
    "```python\n",
    "# Step 0:  Import packages\n",
    "\n",
    "import numpy as np\n",
    "import pandas as pd\n",
    "import matplotlib.pyplot as plt\n",
    "import seaborn as sns\n",
    "\n",
    "# Step 1: Read the dataset YouTube.csv from datasets folder. \n",
    "\n",
    "data = pd.read_csv('datasets/YouTube.csv')\n",
    "\n",
    "# Step 2: Convert to long form, with variable name 'Type' to indicate the type of values: 'Views' or 'Subcribers'. \n",
    "\n",
    "data.rename(columns={'Channel': 'YouTube Channel', 'Subs (in millions)': 'Subcribers', 'Views (in millions)': 'Views'}, inplace=True)\n",
    "data_long = pd.melt(data, id_vars=['YouTube Channel'],  value_vars=['Subcribers', 'Views'], var_name='Type', value_name='Subs/Views (in millions)')\n",
    "\n",
    "# Step 3: Create a FacetGrid with two columns (Type=Subscribers, Type=Views) with barplot\n",
    "\n",
    "sns.set_theme()\n",
    "g = sns.FacetGrid(data_long, col='Type', hue='Type', sharex=False, height=8)\n",
    "g.map(sns.barplot, 'Subs/Views (in millions)', 'YouTube Channel')\n",
    "\n",
    "plt.show()\n",
    "\n",
    "```\n",
    "    \n",
    "</details>"
   ]
  }
 ],
 "metadata": {
  "kernelspec": {
   "display_name": "Python 3 (ipykernel)",
   "language": "python",
   "name": "python3"
  },
  "language_info": {
   "codemirror_mode": {
    "name": "ipython",
    "version": 3
   },
   "file_extension": ".py",
   "mimetype": "text/x-python",
   "name": "python",
   "nbconvert_exporter": "python",
   "pygments_lexer": "ipython3",
   "version": "3.9.17"
  }
 },
 "nbformat": 4,
 "nbformat_minor": 4
}
